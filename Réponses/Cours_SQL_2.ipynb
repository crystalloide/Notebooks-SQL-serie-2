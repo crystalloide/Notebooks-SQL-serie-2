{
  "nbformat": 4,
  "nbformat_minor": 0,
  "metadata": {
    "kernelspec": {
      "display_name": "Python 3",
      "language": "python",
      "name": "python3"
    },
    "language_info": {
      "codemirror_mode": {
        "name": "ipython",
        "version": 3
      },
      "file_extension": ".py",
      "mimetype": "text/x-python",
      "name": "python",
      "nbconvert_exporter": "python",
      "pygments_lexer": "ipython3",
      "version": "3.8.2"
    },
    "colab": {
      "name": "Cours_SQL_2.ipynb",
      "provenance": [],
      "collapsed_sections": [],
      "include_colab_link": true
    }
  },
  "cells": [
    {
      "cell_type": "markdown",
      "metadata": {
        "id": "view-in-github",
        "colab_type": "text"
      },
      "source": [
        "<a href=\"https://colab.research.google.com/github/crystalloide/Notebooks-SQL-serie-2/blob/main/R%C3%A9ponses/Cours_SQL_2.ipynb\" target=\"_parent\"><img src=\"https://colab.research.google.com/assets/colab-badge.svg\" alt=\"Open In Colab\"/></a>"
      ]
    },
    {
      "cell_type": "markdown",
      "metadata": {
        "id": "ZTXLS3_sgm_A"
      },
      "source": [
        "# SQL 2/3\n",
        "> Cours IMT Mines 02-2022\n",
        "\n",
        "- categories: [Cours IMT Mines 02-2022, Bases de données, SGBR-R, SQL, TP]"
      ]
    },
    {
      "cell_type": "markdown",
      "metadata": {
        "deletable": false,
        "editable": false,
        "nbgrader": {
          "cell_type": "markdown",
          "checksum": "8c432f81dec39832c0a537518cc03738",
          "grade": false,
          "grade_id": "cell-1857cc9966e168e6",
          "locked": true,
          "schema_version": 3,
          "solution": false,
          "task": false
        },
        "id": "Pf9nN_gLgm_E"
      },
      "source": [
        "# Aller plus loin en SQL\n",
        "\n",
        "Dans ce classeur, nous poursuivrons l'étude de l'exemple de la base de données de livres de SF et nous verrons des requêtes de sélection avancées ainsi que la manière de fusionner plusieurs tables (Jointures).\n",
        "\n",
        "Commencez par valider les cellules suivantes afin d'activer la fonctionnalité SQL de Jupyter et de charger la base du TP précédent."
      ]
    },
    {
      "cell_type": "code",
      "metadata": {
        "deletable": false,
        "editable": false,
        "nbgrader": {
          "cell_type": "code",
          "checksum": "c9ea247d5e76475bb29a09415bc67971",
          "grade": false,
          "grade_id": "cell-7cc7fb0371c28068",
          "locked": true,
          "schema_version": 3,
          "solution": false,
          "task": false
        },
        "id": "kUDQ5g7ggm_F"
      },
      "source": [
        "%load_ext sql"
      ],
      "execution_count": null,
      "outputs": []
    },
    {
      "cell_type": "code",
      "metadata": {
        "colab": {
          "base_uri": "https://localhost:8080/"
        },
        "id": "2VYIjdGu_Jwp",
        "outputId": "29622c74-f5b4-454e-abb5-e2cf3a789666"
      },
      "source": [
        "from google.colab import drive\n",
        "# drive.mount('/content/gdrive')\n",
        "drive.mount(\"/content/gdrive\", force_remount=True)"
      ],
      "execution_count": null,
      "outputs": [
        {
          "output_type": "stream",
          "text": [
            "Mounted at /content/gdrive\n"
          ],
          "name": "stdout"
        }
      ]
    },
    {
      "cell_type": "code",
      "metadata": {
        "colab": {
          "base_uri": "https://localhost:8080/",
          "height": 35
        },
        "id": "WX9VAgfA9yxL",
        "outputId": "dfabd458-ab85-432d-a323-21c9e9f35667"
      },
      "source": [
        "%sql sqlite:////content/gdrive/MyDrive/Partage/livres_AF.db"
      ],
      "execution_count": null,
      "outputs": [
        {
          "output_type": "execute_result",
          "data": {
            "application/vnd.google.colaboratory.intrinsic+json": {
              "type": "string"
            },
            "text/plain": [
              "'Connected: @/content/gdrive/MyDrive/Partage/livres_AF.db'"
            ]
          },
          "metadata": {
            "tags": []
          },
          "execution_count": 3
        }
      ]
    },
    {
      "cell_type": "code",
      "metadata": {
        "colab": {
          "base_uri": "https://localhost:8080/",
          "height": 181
        },
        "id": "qnuGXEoM-DXm",
        "outputId": "a72b52db-e95c-49c0-bd4d-6659aa4b3cef"
      },
      "source": [
        "%sql SELECT name FROM sqlite_master WHERE type='table'"
      ],
      "execution_count": null,
      "outputs": [
        {
          "output_type": "stream",
          "text": [
            " * sqlite:////content/gdrive/MyDrive/Partage/livres_AF.db\n",
            "Done.\n"
          ],
          "name": "stdout"
        },
        {
          "output_type": "execute_result",
          "data": {
            "text/html": [
              "<table>\n",
              "    <thead>\n",
              "        <tr>\n",
              "            <th>name</th>\n",
              "        </tr>\n",
              "    </thead>\n",
              "    <tbody>\n",
              "        <tr>\n",
              "            <td>Langues</td>\n",
              "        </tr>\n",
              "        <tr>\n",
              "            <td>Auteurs</td>\n",
              "        </tr>\n",
              "        <tr>\n",
              "            <td>Livres</td>\n",
              "        </tr>\n",
              "        <tr>\n",
              "            <td>Themes</td>\n",
              "        </tr>\n",
              "        <tr>\n",
              "            <td>RelationsLivreTheme</td>\n",
              "        </tr>\n",
              "    </tbody>\n",
              "</table>"
            ],
            "text/plain": [
              "[('Langues',),\n",
              " ('Auteurs',),\n",
              " ('Livres',),\n",
              " ('Themes',),\n",
              " ('RelationsLivreTheme',)]"
            ]
          },
          "metadata": {
            "tags": []
          },
          "execution_count": 4
        }
      ]
    },
    {
      "cell_type": "markdown",
      "metadata": {
        "deletable": false,
        "editable": false,
        "nbgrader": {
          "cell_type": "markdown",
          "checksum": "801c78ebbd6bc1e91d0f38a344fd78bb",
          "grade": false,
          "grade_id": "cell-90f6649966916f2a",
          "locked": true,
          "schema_version": 3,
          "solution": false,
          "task": false
        },
        "id": "W4ytm52Agm_F"
      },
      "source": [
        "## Aller plus loin avec SELECT\n",
        "\n",
        "### Sélection simple\n",
        "\n",
        "Supposons que l'on veuille lister seulement les noms et prénoms des auteurs nés avant 1900, on utilisera une clause **WHERE** *condition* :"
      ]
    },
    {
      "cell_type": "code",
      "metadata": {
        "deletable": false,
        "editable": false,
        "nbgrader": {
          "cell_type": "code",
          "checksum": "4f06199becbc508c498cf2d3cc2b4184",
          "grade": false,
          "grade_id": "cell-baad24ed27faac4e",
          "locked": true,
          "schema_version": 3,
          "solution": false,
          "task": false
        },
        "id": "R6X5g3AZgm_G",
        "colab": {
          "base_uri": "https://localhost:8080/",
          "height": 118
        },
        "outputId": "22053212-466b-4f61-8de8-4c4458f2fbca"
      },
      "source": [
        "%sql SELECT Nom, Prenom from Auteurs WHERE AnneeNaissance < 1900;"
      ],
      "execution_count": null,
      "outputs": [
        {
          "output_type": "stream",
          "text": [
            " * sqlite:////content/gdrive/MyDrive/Partage/livres_AF.db\n",
            "Done.\n"
          ],
          "name": "stdout"
        },
        {
          "output_type": "execute_result",
          "data": {
            "text/html": [
              "<table>\n",
              "    <thead>\n",
              "        <tr>\n",
              "            <th>Nom</th>\n",
              "            <th>Prenom</th>\n",
              "        </tr>\n",
              "    </thead>\n",
              "    <tbody>\n",
              "        <tr>\n",
              "            <td>Huxley</td>\n",
              "            <td>Aldous</td>\n",
              "        </tr>\n",
              "        <tr>\n",
              "            <td>Verne</td>\n",
              "            <td>Jules</td>\n",
              "        </tr>\n",
              "    </tbody>\n",
              "</table>"
            ],
            "text/plain": [
              "[('Huxley', 'Aldous'), ('Verne', 'Jules')]"
            ]
          },
          "metadata": {
            "tags": []
          },
          "execution_count": 5
        }
      ]
    },
    {
      "cell_type": "markdown",
      "metadata": {
        "deletable": false,
        "editable": false,
        "nbgrader": {
          "cell_type": "markdown",
          "checksum": "bd0a9e9c25c1d564c72e714bea927af2",
          "grade": false,
          "grade_id": "cell-dfb056bff980fc60",
          "locked": true,
          "schema_version": 3,
          "solution": false,
          "task": false
        },
        "id": "Nmzbalbogm_G"
      },
      "source": [
        "Pour obtebir les auteurs prénommés *Jules* :"
      ]
    },
    {
      "cell_type": "code",
      "metadata": {
        "id": "YhG6zUxkgm_G",
        "colab": {
          "base_uri": "https://localhost:8080/",
          "height": 97
        },
        "outputId": "705fa34a-181f-489a-a786-ab9bcdb4daa2"
      },
      "source": [
        "%sql SELECT Nom, Prenom from Auteurs WHERE Prenom= 'Jules';"
      ],
      "execution_count": null,
      "outputs": [
        {
          "output_type": "stream",
          "text": [
            " * sqlite:////content/gdrive/MyDrive/Partage/livres_AF.db\n",
            "Done.\n"
          ],
          "name": "stdout"
        },
        {
          "output_type": "execute_result",
          "data": {
            "text/html": [
              "<table>\n",
              "    <thead>\n",
              "        <tr>\n",
              "            <th>Nom</th>\n",
              "            <th>Prenom</th>\n",
              "        </tr>\n",
              "    </thead>\n",
              "    <tbody>\n",
              "        <tr>\n",
              "            <td>Verne</td>\n",
              "            <td>Jules</td>\n",
              "        </tr>\n",
              "    </tbody>\n",
              "</table>"
            ],
            "text/plain": [
              "[('Verne', 'Jules')]"
            ]
          },
          "metadata": {
            "tags": []
          },
          "execution_count": 6
        }
      ]
    },
    {
      "cell_type": "markdown",
      "metadata": {
        "deletable": false,
        "editable": false,
        "nbgrader": {
          "cell_type": "markdown",
          "checksum": "ac357e3631d75acd0f94216aa6b78fbf",
          "grade": false,
          "grade_id": "cell-72372881d6a7509d",
          "locked": true,
          "schema_version": 3,
          "solution": false,
          "task": false
        },
        "id": "5kT78REZgm_G"
      },
      "source": [
        "Vous voyez que les textes sont délimités par des quotes **'...'**.\n",
        "\n",
        "***Attention*** : essayez de remplacer **Jules** par **jules** et vous constaterez que la recherche est sensible aux majuscules.\n",
        "\n",
        "Supposons maintenant que l'on recherche les auteurs dont le prénom commence par **P** : Nous utiliserons une clause *LIKE* de cette manière :"
      ]
    },
    {
      "cell_type": "code",
      "metadata": {
        "deletable": false,
        "editable": false,
        "nbgrader": {
          "cell_type": "code",
          "checksum": "2bf8100c18da7cafff69e227b1dce7b7",
          "grade": false,
          "grade_id": "cell-ca58877d3e313227",
          "locked": true,
          "schema_version": 3,
          "solution": false,
          "task": false
        },
        "id": "ObHQ7XuWgm_H",
        "colab": {
          "base_uri": "https://localhost:8080/",
          "height": 118
        },
        "outputId": "5d6b9391-400e-4ceb-d024-8ef416ccbaa2"
      },
      "source": [
        "%sql SELECT Nom, Prenom from Auteurs WHERE Prenom LIKE 'P%';"
      ],
      "execution_count": null,
      "outputs": [
        {
          "output_type": "stream",
          "text": [
            " * sqlite:////content/gdrive/MyDrive/Partage/livres_AF.db\n",
            "Done.\n"
          ],
          "name": "stdout"
        },
        {
          "output_type": "execute_result",
          "data": {
            "text/html": [
              "<table>\n",
              "    <thead>\n",
              "        <tr>\n",
              "            <th>Nom</th>\n",
              "            <th>Prenom</th>\n",
              "        </tr>\n",
              "    </thead>\n",
              "    <tbody>\n",
              "        <tr>\n",
              "            <td>K. Dick</td>\n",
              "            <td>Philip</td>\n",
              "        </tr>\n",
              "        <tr>\n",
              "            <td>Boulle</td>\n",
              "            <td>Pierre</td>\n",
              "        </tr>\n",
              "    </tbody>\n",
              "</table>"
            ],
            "text/plain": [
              "[('K. Dick', 'Philip'), ('Boulle', 'Pierre')]"
            ]
          },
          "metadata": {
            "tags": []
          },
          "execution_count": 7
        }
      ]
    },
    {
      "cell_type": "markdown",
      "metadata": {
        "deletable": false,
        "editable": false,
        "nbgrader": {
          "cell_type": "markdown",
          "checksum": "5c475597f612d71c133122e56a2d613b",
          "grade": false,
          "grade_id": "cell-28dc4a18f909f5c4",
          "locked": true,
          "schema_version": 3,
          "solution": false,
          "task": false
        },
        "id": "2zlV6IYBgm_H"
      },
      "source": [
        "### Sélection multiple\n",
        "Il est possible de croiser plusieurs critères à l'aide d'opérateurs booleens : **AND** et **OR**. Voici la liste des auteurs français nés après 1900 :"
      ]
    },
    {
      "cell_type": "code",
      "metadata": {
        "deletable": false,
        "editable": false,
        "nbgrader": {
          "cell_type": "code",
          "checksum": "d097e79b4a92a2dceaf1e259a4539d72",
          "grade": false,
          "grade_id": "cell-f98778845202f5f9",
          "locked": true,
          "schema_version": 3,
          "solution": false,
          "task": false
        },
        "id": "YGxyHDVigm_H",
        "colab": {
          "base_uri": "https://localhost:8080/",
          "height": 118
        },
        "outputId": "97b94cbe-0bd0-462f-9610-05525aacc8c5"
      },
      "source": [
        "%sql SELECT Nom, Prenom from Auteurs WHERE IdLangue = 2 AND AnneeNaissance > 1900;"
      ],
      "execution_count": null,
      "outputs": [
        {
          "output_type": "stream",
          "text": [
            " * sqlite:////content/gdrive/MyDrive/Partage/livres_AF.db\n",
            "Done.\n"
          ],
          "name": "stdout"
        },
        {
          "output_type": "execute_result",
          "data": {
            "text/html": [
              "<table>\n",
              "    <thead>\n",
              "        <tr>\n",
              "            <th>Nom</th>\n",
              "            <th>Prenom</th>\n",
              "        </tr>\n",
              "    </thead>\n",
              "    <tbody>\n",
              "        <tr>\n",
              "            <td>Barjavel</td>\n",
              "            <td>René</td>\n",
              "        </tr>\n",
              "        <tr>\n",
              "            <td>Boulle</td>\n",
              "            <td>Pierre</td>\n",
              "        </tr>\n",
              "    </tbody>\n",
              "</table>"
            ],
            "text/plain": [
              "[('Barjavel', 'René'), ('Boulle', 'Pierre')]"
            ]
          },
          "metadata": {
            "tags": []
          },
          "execution_count": 8
        }
      ]
    },
    {
      "cell_type": "markdown",
      "metadata": {
        "deletable": false,
        "editable": false,
        "nbgrader": {
          "cell_type": "markdown",
          "checksum": "f786c7bceb82bf341ac5f44706c79c32",
          "grade": false,
          "grade_id": "cell-136fb261dedbc48b",
          "locked": true,
          "schema_version": 3,
          "solution": false,
          "task": false
        },
        "id": "kc0GMgQVgm_H"
      },
      "source": [
        "### Compter le nombre de réponses d'une requête SELECT\n",
        "\n",
        "Combien y a t-il d'auteurs nés entre 1900 et 1915 ? Vous verrez à l'occation l'utilisation de l'opérateur *BETWEEN* pour tester l'appartenance à un intervalle."
      ]
    },
    {
      "cell_type": "code",
      "metadata": {
        "deletable": false,
        "editable": false,
        "nbgrader": {
          "cell_type": "code",
          "checksum": "ec96d632497efb6242e32324926f6f7c",
          "grade": false,
          "grade_id": "cell-4b492293d286103c",
          "locked": true,
          "schema_version": 3,
          "solution": false,
          "task": false
        },
        "id": "LB5YT_xAgm_H",
        "colab": {
          "base_uri": "https://localhost:8080/"
        },
        "outputId": "07941356-27b1-4551-f0eb-717785413a7c"
      },
      "source": [
        "nbr = %sql SELECT COUNT(*) as Total from Auteurs WHERE AnneeNaissance BETWEEN 1900 AND 1915;\n",
        "\n",
        "print(nbr)\n",
        "print(\"récupérer juste le nombre : \", nbr[0][0])"
      ],
      "execution_count": null,
      "outputs": [
        {
          "output_type": "stream",
          "text": [
            " * sqlite:////content/gdrive/MyDrive/Partage/livres_AF.db\n",
            "Done.\n",
            "+-------+\n",
            "| Total |\n",
            "+-------+\n",
            "|   4   |\n",
            "+-------+\n",
            "récupérer juste le nombre :  4\n"
          ],
          "name": "stdout"
        }
      ]
    },
    {
      "cell_type": "markdown",
      "metadata": {
        "deletable": false,
        "editable": false,
        "nbgrader": {
          "cell_type": "markdown",
          "checksum": "33fcab606a4e552e12ff564324233b5b",
          "grade": false,
          "grade_id": "cell-7b7bc37d92eac9d1",
          "locked": true,
          "schema_version": 3,
          "solution": false,
          "task": false
        },
        "id": "1qpwMFxrgm_H"
      },
      "source": [
        "### Trier les réponses\n",
        "\n",
        "Nous allons lister tous les auteurs par ordre croissant d'année de naissance"
      ]
    },
    {
      "cell_type": "code",
      "metadata": {
        "deletable": false,
        "editable": false,
        "nbgrader": {
          "cell_type": "code",
          "checksum": "9f490c862022ed4ddfbbddf6cfc8cf92",
          "grade": false,
          "grade_id": "cell-96b91404aa8df10a",
          "locked": true,
          "schema_version": 3,
          "solution": false,
          "task": false
        },
        "id": "SBWzrM8kgm_I",
        "colab": {
          "base_uri": "https://localhost:8080/",
          "height": 285
        },
        "outputId": "ad329ac3-b1c8-4add-f318-f8876d21b415"
      },
      "source": [
        "%sql SELECT * from Auteurs ORDER BY AnneeNaissance;"
      ],
      "execution_count": null,
      "outputs": [
        {
          "output_type": "stream",
          "text": [
            " * sqlite:////content/gdrive/MyDrive/Partage/livres_AF.db\n",
            "Done.\n"
          ],
          "name": "stdout"
        },
        {
          "output_type": "execute_result",
          "data": {
            "text/html": [
              "<table>\n",
              "    <thead>\n",
              "        <tr>\n",
              "            <th>IdAuteur</th>\n",
              "            <th>Nom</th>\n",
              "            <th>Prenom</th>\n",
              "            <th>AnneeNaissance</th>\n",
              "            <th>IdLangue</th>\n",
              "        </tr>\n",
              "    </thead>\n",
              "    <tbody>\n",
              "        <tr>\n",
              "            <td>10</td>\n",
              "            <td>Verne</td>\n",
              "            <td>Jules</td>\n",
              "            <td>1828</td>\n",
              "            <td>2</td>\n",
              "        </tr>\n",
              "        <tr>\n",
              "            <td>4</td>\n",
              "            <td>Huxley</td>\n",
              "            <td>Aldous</td>\n",
              "            <td>1894</td>\n",
              "            <td>1</td>\n",
              "        </tr>\n",
              "        <tr>\n",
              "            <td>1</td>\n",
              "            <td>Orwell</td>\n",
              "            <td>George</td>\n",
              "            <td>1903</td>\n",
              "            <td>1</td>\n",
              "        </tr>\n",
              "        <tr>\n",
              "            <td>7</td>\n",
              "            <td>Barjavel</td>\n",
              "            <td>René</td>\n",
              "            <td>1911</td>\n",
              "            <td>2</td>\n",
              "        </tr>\n",
              "        <tr>\n",
              "            <td>8</td>\n",
              "            <td>Boulle</td>\n",
              "            <td>Pierre</td>\n",
              "            <td>1912</td>\n",
              "            <td>2</td>\n",
              "        </tr>\n",
              "        <tr>\n",
              "            <td>9</td>\n",
              "            <td>Van Vogt</td>\n",
              "            <td>Alfred Elton</td>\n",
              "            <td>1912</td>\n",
              "            <td>1</td>\n",
              "        </tr>\n",
              "        <tr>\n",
              "            <td>2</td>\n",
              "            <td>Herbert</td>\n",
              "            <td>Frank</td>\n",
              "            <td>1920</td>\n",
              "            <td>1</td>\n",
              "        </tr>\n",
              "        <tr>\n",
              "            <td>3</td>\n",
              "            <td>Asimov</td>\n",
              "            <td>Isaac</td>\n",
              "            <td>1920</td>\n",
              "            <td>1</td>\n",
              "        </tr>\n",
              "        <tr>\n",
              "            <td>5</td>\n",
              "            <td>Bradbury</td>\n",
              "            <td>Ray</td>\n",
              "            <td>1920</td>\n",
              "            <td>1</td>\n",
              "        </tr>\n",
              "        <tr>\n",
              "            <td>6</td>\n",
              "            <td>K. Dick</td>\n",
              "            <td>Philip</td>\n",
              "            <td>1928</td>\n",
              "            <td>1</td>\n",
              "        </tr>\n",
              "    </tbody>\n",
              "</table>"
            ],
            "text/plain": [
              "[(10, 'Verne', 'Jules', 1828, 2),\n",
              " (4, 'Huxley', 'Aldous', 1894, 1),\n",
              " (1, 'Orwell', 'George', 1903, 1),\n",
              " (7, 'Barjavel', 'René', 1911, 2),\n",
              " (8, 'Boulle', 'Pierre', 1912, 2),\n",
              " (9, 'Van Vogt', 'Alfred Elton', 1912, 1),\n",
              " (2, 'Herbert', 'Frank', 1920, 1),\n",
              " (3, 'Asimov', 'Isaac', 1920, 1),\n",
              " (5, 'Bradbury', 'Ray', 1920, 1),\n",
              " (6, 'K. Dick', 'Philip', 1928, 1)]"
            ]
          },
          "metadata": {
            "tags": []
          },
          "execution_count": 10
        }
      ]
    },
    {
      "cell_type": "markdown",
      "metadata": {
        "deletable": false,
        "editable": false,
        "nbgrader": {
          "cell_type": "markdown",
          "checksum": "254cb498208be77cbba83b91b065b7a5",
          "grade": false,
          "grade_id": "cell-9d02421596595d51",
          "locked": true,
          "schema_version": 3,
          "solution": false,
          "task": false
        },
        "id": "uPHjWj3Ggm_I"
      },
      "source": [
        "et par ordre décroissant, on ajoute **DESC** à la fin de la requête"
      ]
    },
    {
      "cell_type": "code",
      "metadata": {
        "deletable": false,
        "editable": false,
        "nbgrader": {
          "cell_type": "code",
          "checksum": "b3fdb66a111138ee56acdc88f5b8b8e0",
          "grade": false,
          "grade_id": "cell-0468004c28345ded",
          "locked": true,
          "schema_version": 3,
          "solution": false,
          "task": false
        },
        "id": "fQAI9pOOgm_I",
        "colab": {
          "base_uri": "https://localhost:8080/",
          "height": 285
        },
        "outputId": "f3f235df-8cec-47c6-975a-29e6650a91c9"
      },
      "source": [
        "%sql SELECT * from Auteurs ORDER BY AnneeNaissance DESC;"
      ],
      "execution_count": null,
      "outputs": [
        {
          "output_type": "stream",
          "text": [
            " * sqlite:////content/gdrive/MyDrive/Partage/livres_AF.db\n",
            "Done.\n"
          ],
          "name": "stdout"
        },
        {
          "output_type": "execute_result",
          "data": {
            "text/html": [
              "<table>\n",
              "    <thead>\n",
              "        <tr>\n",
              "            <th>IdAuteur</th>\n",
              "            <th>Nom</th>\n",
              "            <th>Prenom</th>\n",
              "            <th>AnneeNaissance</th>\n",
              "            <th>IdLangue</th>\n",
              "        </tr>\n",
              "    </thead>\n",
              "    <tbody>\n",
              "        <tr>\n",
              "            <td>6</td>\n",
              "            <td>K. Dick</td>\n",
              "            <td>Philip</td>\n",
              "            <td>1928</td>\n",
              "            <td>1</td>\n",
              "        </tr>\n",
              "        <tr>\n",
              "            <td>2</td>\n",
              "            <td>Herbert</td>\n",
              "            <td>Frank</td>\n",
              "            <td>1920</td>\n",
              "            <td>1</td>\n",
              "        </tr>\n",
              "        <tr>\n",
              "            <td>3</td>\n",
              "            <td>Asimov</td>\n",
              "            <td>Isaac</td>\n",
              "            <td>1920</td>\n",
              "            <td>1</td>\n",
              "        </tr>\n",
              "        <tr>\n",
              "            <td>5</td>\n",
              "            <td>Bradbury</td>\n",
              "            <td>Ray</td>\n",
              "            <td>1920</td>\n",
              "            <td>1</td>\n",
              "        </tr>\n",
              "        <tr>\n",
              "            <td>8</td>\n",
              "            <td>Boulle</td>\n",
              "            <td>Pierre</td>\n",
              "            <td>1912</td>\n",
              "            <td>2</td>\n",
              "        </tr>\n",
              "        <tr>\n",
              "            <td>9</td>\n",
              "            <td>Van Vogt</td>\n",
              "            <td>Alfred Elton</td>\n",
              "            <td>1912</td>\n",
              "            <td>1</td>\n",
              "        </tr>\n",
              "        <tr>\n",
              "            <td>7</td>\n",
              "            <td>Barjavel</td>\n",
              "            <td>René</td>\n",
              "            <td>1911</td>\n",
              "            <td>2</td>\n",
              "        </tr>\n",
              "        <tr>\n",
              "            <td>1</td>\n",
              "            <td>Orwell</td>\n",
              "            <td>George</td>\n",
              "            <td>1903</td>\n",
              "            <td>1</td>\n",
              "        </tr>\n",
              "        <tr>\n",
              "            <td>4</td>\n",
              "            <td>Huxley</td>\n",
              "            <td>Aldous</td>\n",
              "            <td>1894</td>\n",
              "            <td>1</td>\n",
              "        </tr>\n",
              "        <tr>\n",
              "            <td>10</td>\n",
              "            <td>Verne</td>\n",
              "            <td>Jules</td>\n",
              "            <td>1828</td>\n",
              "            <td>2</td>\n",
              "        </tr>\n",
              "    </tbody>\n",
              "</table>"
            ],
            "text/plain": [
              "[(6, 'K. Dick', 'Philip', 1928, 1),\n",
              " (2, 'Herbert', 'Frank', 1920, 1),\n",
              " (3, 'Asimov', 'Isaac', 1920, 1),\n",
              " (5, 'Bradbury', 'Ray', 1920, 1),\n",
              " (8, 'Boulle', 'Pierre', 1912, 2),\n",
              " (9, 'Van Vogt', 'Alfred Elton', 1912, 1),\n",
              " (7, 'Barjavel', 'René', 1911, 2),\n",
              " (1, 'Orwell', 'George', 1903, 1),\n",
              " (4, 'Huxley', 'Aldous', 1894, 1),\n",
              " (10, 'Verne', 'Jules', 1828, 2)]"
            ]
          },
          "metadata": {
            "tags": []
          },
          "execution_count": 11
        }
      ]
    },
    {
      "cell_type": "markdown",
      "metadata": {
        "deletable": false,
        "editable": false,
        "nbgrader": {
          "cell_type": "markdown",
          "checksum": "baeb57ee3c570a69490440ff349e95b3",
          "grade": false,
          "grade_id": "cell-4485617887b69085",
          "locked": true,
          "schema_version": 3,
          "solution": false,
          "task": false
        },
        "id": "VfaVggosgm_I"
      },
      "source": [
        "### Éviter les occurrences multiples\n",
        "\n",
        "interrogeons la table **Livres** sur les années de publication, rangées par ordre croissant :"
      ]
    },
    {
      "cell_type": "code",
      "metadata": {
        "deletable": false,
        "editable": false,
        "nbgrader": {
          "cell_type": "code",
          "checksum": "0b0ea83e86329908c5550aff2e62cdf3",
          "grade": false,
          "grade_id": "cell-9ef1b4bb32f01d21",
          "locked": true,
          "schema_version": 3,
          "solution": false,
          "task": false
        },
        "id": "SMAWagaOgm_I",
        "colab": {
          "base_uri": "https://localhost:8080/",
          "height": 411
        },
        "outputId": "7bd8b8ed-725e-4c9e-bb9e-f91d12d8a7cb"
      },
      "source": [
        "%sql SELECT AnneePubli from Livres ORDER BY AnneePubli;"
      ],
      "execution_count": null,
      "outputs": [
        {
          "output_type": "stream",
          "text": [
            " * sqlite:////content/gdrive/MyDrive/Partage/livres_AF.db\n",
            "Done.\n"
          ],
          "name": "stdout"
        },
        {
          "output_type": "execute_result",
          "data": {
            "text/html": [
              "<table>\n",
              "    <thead>\n",
              "        <tr>\n",
              "            <th>AnneePubli</th>\n",
              "        </tr>\n",
              "    </thead>\n",
              "    <tbody>\n",
              "        <tr>\n",
              "            <td>1865</td>\n",
              "        </tr>\n",
              "        <tr>\n",
              "            <td>1931</td>\n",
              "        </tr>\n",
              "        <tr>\n",
              "            <td>1943</td>\n",
              "        </tr>\n",
              "        <tr>\n",
              "            <td>1945</td>\n",
              "        </tr>\n",
              "        <tr>\n",
              "            <td>1949</td>\n",
              "        </tr>\n",
              "        <tr>\n",
              "            <td>1950</td>\n",
              "        </tr>\n",
              "        <tr>\n",
              "            <td>1950</td>\n",
              "        </tr>\n",
              "        <tr>\n",
              "            <td>1951</td>\n",
              "        </tr>\n",
              "        <tr>\n",
              "            <td>1953</td>\n",
              "        </tr>\n",
              "        <tr>\n",
              "            <td>1955</td>\n",
              "        </tr>\n",
              "        <tr>\n",
              "            <td>1962</td>\n",
              "        </tr>\n",
              "        <tr>\n",
              "            <td>1963</td>\n",
              "        </tr>\n",
              "        <tr>\n",
              "            <td>1965</td>\n",
              "        </tr>\n",
              "        <tr>\n",
              "            <td>1968</td>\n",
              "        </tr>\n",
              "        <tr>\n",
              "            <td>1968</td>\n",
              "        </tr>\n",
              "        <tr>\n",
              "            <td>1969</td>\n",
              "        </tr>\n",
              "    </tbody>\n",
              "</table>"
            ],
            "text/plain": [
              "[(1865,),\n",
              " (1931,),\n",
              " (1943,),\n",
              " (1945,),\n",
              " (1949,),\n",
              " (1950,),\n",
              " (1950,),\n",
              " (1951,),\n",
              " (1953,),\n",
              " (1955,),\n",
              " (1962,),\n",
              " (1963,),\n",
              " (1965,),\n",
              " (1968,),\n",
              " (1968,),\n",
              " (1969,)]"
            ]
          },
          "metadata": {
            "tags": []
          },
          "execution_count": 12
        }
      ]
    },
    {
      "cell_type": "markdown",
      "metadata": {
        "deletable": false,
        "editable": false,
        "nbgrader": {
          "cell_type": "markdown",
          "checksum": "13ee4851ae3f5ee8c11a0deea734b16b",
          "grade": false,
          "grade_id": "cell-47154ace5f895d9f",
          "locked": true,
          "schema_version": 3,
          "solution": false,
          "task": false
        },
        "id": "wA82ly64gm_I"
      },
      "source": [
        "On constate la présence de quelques doublons\n",
        "\n",
        "Pour éviter les redondances dans les résultats, on peut rajouter le mot-clé *DISTINCT* juste après le *SELECT* :"
      ]
    },
    {
      "cell_type": "code",
      "metadata": {
        "deletable": false,
        "editable": false,
        "nbgrader": {
          "cell_type": "code",
          "checksum": "322280d40786a8bbf7a4c0cbc3e11507",
          "grade": false,
          "grade_id": "cell-48ae391d7798d3f6",
          "locked": true,
          "schema_version": 3,
          "solution": false,
          "task": false
        },
        "id": "0Jx-5Sv0gm_J",
        "colab": {
          "base_uri": "https://localhost:8080/",
          "height": 369
        },
        "outputId": "7826fdc9-6ea3-499f-d595-1048c6e0c096"
      },
      "source": [
        "%sql SELECT DISTINCT AnneePubli from Livres ORDER BY AnneePubli;"
      ],
      "execution_count": null,
      "outputs": [
        {
          "output_type": "stream",
          "text": [
            " * sqlite:////content/gdrive/MyDrive/Partage/livres_AF.db\n",
            "Done.\n"
          ],
          "name": "stdout"
        },
        {
          "output_type": "execute_result",
          "data": {
            "text/html": [
              "<table>\n",
              "    <thead>\n",
              "        <tr>\n",
              "            <th>AnneePubli</th>\n",
              "        </tr>\n",
              "    </thead>\n",
              "    <tbody>\n",
              "        <tr>\n",
              "            <td>1865</td>\n",
              "        </tr>\n",
              "        <tr>\n",
              "            <td>1931</td>\n",
              "        </tr>\n",
              "        <tr>\n",
              "            <td>1943</td>\n",
              "        </tr>\n",
              "        <tr>\n",
              "            <td>1945</td>\n",
              "        </tr>\n",
              "        <tr>\n",
              "            <td>1949</td>\n",
              "        </tr>\n",
              "        <tr>\n",
              "            <td>1950</td>\n",
              "        </tr>\n",
              "        <tr>\n",
              "            <td>1951</td>\n",
              "        </tr>\n",
              "        <tr>\n",
              "            <td>1953</td>\n",
              "        </tr>\n",
              "        <tr>\n",
              "            <td>1955</td>\n",
              "        </tr>\n",
              "        <tr>\n",
              "            <td>1962</td>\n",
              "        </tr>\n",
              "        <tr>\n",
              "            <td>1963</td>\n",
              "        </tr>\n",
              "        <tr>\n",
              "            <td>1965</td>\n",
              "        </tr>\n",
              "        <tr>\n",
              "            <td>1968</td>\n",
              "        </tr>\n",
              "        <tr>\n",
              "            <td>1969</td>\n",
              "        </tr>\n",
              "    </tbody>\n",
              "</table>"
            ],
            "text/plain": [
              "[(1865,),\n",
              " (1931,),\n",
              " (1943,),\n",
              " (1945,),\n",
              " (1949,),\n",
              " (1950,),\n",
              " (1951,),\n",
              " (1953,),\n",
              " (1955,),\n",
              " (1962,),\n",
              " (1963,),\n",
              " (1965,),\n",
              " (1968,),\n",
              " (1969,)]"
            ]
          },
          "metadata": {
            "tags": []
          },
          "execution_count": 13
        }
      ]
    },
    {
      "cell_type": "markdown",
      "metadata": {
        "deletable": false,
        "editable": false,
        "nbgrader": {
          "cell_type": "markdown",
          "checksum": "e5b3a9fda9915c25af72ba1a97470127",
          "grade": false,
          "grade_id": "cell-035d091e7af33cad",
          "locked": true,
          "schema_version": 3,
          "solution": false,
          "task": false
        },
        "id": "wwg1Kmfkgm_J"
      },
      "source": [
        "### A vous de jouer\n",
        "\n",
        "1. Donner la liste de tous les titres des livres écrits entre 1920 et 1950.\n",
        "1. Combien y en a t-il ?"
      ]
    },
    {
      "cell_type": "code",
      "metadata": {
        "id": "99E9eBBtgm_J"
      },
      "source": [
        "# Utilisez cette cellule en brouillon pour vos requetes "
      ],
      "execution_count": null,
      "outputs": []
    },
    {
      "cell_type": "code",
      "metadata": {
        "deletable": false,
        "nbgrader": {
          "cell_type": "code",
          "checksum": "1426e3fb3527e6df50b2477f99e382f3",
          "grade": false,
          "grade_id": "cell-5211028250c4be6f",
          "locked": false,
          "schema_version": 3,
          "solution": true,
          "task": false
        },
        "id": "tJq9BptRgm_J",
        "colab": {
          "base_uri": "https://localhost:8080/"
        },
        "outputId": "fa45513f-ec22-4a30-c0d4-de5943d2edf4"
      },
      "source": [
        "# Utiliser la syntaxe courte \n",
        "reponse_1 = %sql SELECT Titre from Livres WHERE AnneePubli >=1920 AND AnneePubli<=1950\n",
        "reponse_2 = %sql SELECT COUNT(*) as Total from Livres WHERE AnneePubli >=1920 AND AnneePubli<=1950\n"
      ],
      "execution_count": null,
      "outputs": [
        {
          "output_type": "stream",
          "text": [
            " * sqlite:////content/gdrive/MyDrive/Partage/livres_AF.db\n",
            "Done.\n",
            " * sqlite:////content/gdrive/MyDrive/Partage/livres_AF.db\n",
            "Done.\n"
          ],
          "name": "stdout"
        }
      ]
    },
    {
      "cell_type": "code",
      "metadata": {
        "colab": {
          "base_uri": "https://localhost:8080/"
        },
        "id": "YqLs-UEgA241",
        "outputId": "6c6742c4-31ad-49e9-9c32-590924cb2591"
      },
      "source": [
        "print(reponse_1)\n",
        "print(reponse_2)"
      ],
      "execution_count": null,
      "outputs": [
        {
          "output_type": "stream",
          "text": [
            "+------------------------+\n",
            "|         Titre          |\n",
            "+------------------------+\n",
            "|          1984          |\n",
            "| Le meilleur des mondes |\n",
            "| Chroniques martiennes  |\n",
            "|       Les Robots       |\n",
            "|         Ravage         |\n",
            "|     Le monde des A     |\n",
            "+------------------------+\n",
            "+-------+\n",
            "| Total |\n",
            "+-------+\n",
            "|   6   |\n",
            "+-------+\n"
          ],
          "name": "stdout"
        }
      ]
    },
    {
      "cell_type": "code",
      "metadata": {
        "deletable": false,
        "editable": false,
        "nbgrader": {
          "cell_type": "code",
          "checksum": "ac969ef788e808ade72eff6ab28251b5",
          "grade": true,
          "grade_id": "cell-d46bde6abf670b0f",
          "locked": true,
          "points": 1,
          "schema_version": 3,
          "solution": false,
          "task": false
        },
        "id": "Dulv_5F6gm_J"
      },
      "source": [
        "# Vérification des réponses\n",
        "\n",
        "assert reponse_1[3][0] == 'Les Robots'\n",
        "assert reponse_2[0][0] == 6\n"
      ],
      "execution_count": null,
      "outputs": []
    },
    {
      "cell_type": "markdown",
      "metadata": {
        "deletable": false,
        "editable": false,
        "nbgrader": {
          "cell_type": "markdown",
          "checksum": "d44f00dd1e507065c1ab607724c53302",
          "grade": false,
          "grade_id": "cell-98d2c4a4a9f2427b",
          "locked": true,
          "schema_version": 3,
          "solution": false,
          "task": false
        },
        "id": "DqWtmRjDgm_J"
      },
      "source": [
        "## Requêtes portant sur plusieurs tables\n",
        "\n",
        "Jusqu'à présent, nos requêtes ne portaient que sur une seule table. Néanmoins notre liste de livres comporte des donées en provenance de plusieurs tables simultanément. Nous allons voir comment effectuer des requêtes pour croiser des données en provenance de plusieurs tables."
      ]
    },
    {
      "cell_type": "code",
      "metadata": {
        "deletable": false,
        "editable": false,
        "nbgrader": {
          "cell_type": "code",
          "checksum": "15b88153cde753c23fd8880d86505923",
          "grade": false,
          "grade_id": "cell-afd3b8108b72a9f0",
          "locked": true,
          "schema_version": 3,
          "solution": false,
          "task": false
        },
        "id": "rovNBa4ogm_J",
        "colab": {
          "base_uri": "https://localhost:8080/",
          "height": 118
        },
        "outputId": "290def19-9ea6-4aa7-c2fb-f65d08355a26"
      },
      "source": [
        "%sql SELECT * FROM Langues;"
      ],
      "execution_count": null,
      "outputs": [
        {
          "output_type": "stream",
          "text": [
            " * sqlite:////content/gdrive/MyDrive/Partage/livres_AF.db\n",
            "Done.\n"
          ],
          "name": "stdout"
        },
        {
          "output_type": "execute_result",
          "data": {
            "text/html": [
              "<table>\n",
              "    <thead>\n",
              "        <tr>\n",
              "            <th>IdLangue</th>\n",
              "            <th>Langue</th>\n",
              "        </tr>\n",
              "    </thead>\n",
              "    <tbody>\n",
              "        <tr>\n",
              "            <td>1</td>\n",
              "            <td>Anglais</td>\n",
              "        </tr>\n",
              "        <tr>\n",
              "            <td>2</td>\n",
              "            <td>Français</td>\n",
              "        </tr>\n",
              "    </tbody>\n",
              "</table>"
            ],
            "text/plain": [
              "[(1, 'Anglais'), (2, 'Français')]"
            ]
          },
          "metadata": {
            "tags": []
          },
          "execution_count": 25
        }
      ]
    },
    {
      "cell_type": "code",
      "metadata": {
        "colab": {
          "base_uri": "https://localhost:8080/",
          "height": 285
        },
        "id": "7FwyzfXiHj66",
        "outputId": "0036a386-ee38-4b6d-9eed-787474573120"
      },
      "source": [
        "%sql SELECT * FROM Auteurs;"
      ],
      "execution_count": null,
      "outputs": [
        {
          "output_type": "stream",
          "text": [
            " * sqlite:////content/gdrive/MyDrive/Partage/livres_AF.db\n",
            "Done.\n"
          ],
          "name": "stdout"
        },
        {
          "output_type": "execute_result",
          "data": {
            "text/html": [
              "<table>\n",
              "    <thead>\n",
              "        <tr>\n",
              "            <th>IdAuteur</th>\n",
              "            <th>Nom</th>\n",
              "            <th>Prenom</th>\n",
              "            <th>AnneeNaissance</th>\n",
              "            <th>IdLangue</th>\n",
              "        </tr>\n",
              "    </thead>\n",
              "    <tbody>\n",
              "        <tr>\n",
              "            <td>1</td>\n",
              "            <td>Orwell</td>\n",
              "            <td>George</td>\n",
              "            <td>1903</td>\n",
              "            <td>1</td>\n",
              "        </tr>\n",
              "        <tr>\n",
              "            <td>2</td>\n",
              "            <td>Herbert</td>\n",
              "            <td>Frank</td>\n",
              "            <td>1920</td>\n",
              "            <td>1</td>\n",
              "        </tr>\n",
              "        <tr>\n",
              "            <td>3</td>\n",
              "            <td>Asimov</td>\n",
              "            <td>Isaac</td>\n",
              "            <td>1920</td>\n",
              "            <td>1</td>\n",
              "        </tr>\n",
              "        <tr>\n",
              "            <td>4</td>\n",
              "            <td>Huxley</td>\n",
              "            <td>Aldous</td>\n",
              "            <td>1894</td>\n",
              "            <td>1</td>\n",
              "        </tr>\n",
              "        <tr>\n",
              "            <td>5</td>\n",
              "            <td>Bradbury</td>\n",
              "            <td>Ray</td>\n",
              "            <td>1920</td>\n",
              "            <td>1</td>\n",
              "        </tr>\n",
              "        <tr>\n",
              "            <td>6</td>\n",
              "            <td>K. Dick</td>\n",
              "            <td>Philip</td>\n",
              "            <td>1928</td>\n",
              "            <td>1</td>\n",
              "        </tr>\n",
              "        <tr>\n",
              "            <td>7</td>\n",
              "            <td>Barjavel</td>\n",
              "            <td>René</td>\n",
              "            <td>1911</td>\n",
              "            <td>2</td>\n",
              "        </tr>\n",
              "        <tr>\n",
              "            <td>8</td>\n",
              "            <td>Boulle</td>\n",
              "            <td>Pierre</td>\n",
              "            <td>1912</td>\n",
              "            <td>2</td>\n",
              "        </tr>\n",
              "        <tr>\n",
              "            <td>9</td>\n",
              "            <td>Van Vogt</td>\n",
              "            <td>Alfred Elton</td>\n",
              "            <td>1912</td>\n",
              "            <td>1</td>\n",
              "        </tr>\n",
              "        <tr>\n",
              "            <td>10</td>\n",
              "            <td>Verne</td>\n",
              "            <td>Jules</td>\n",
              "            <td>1828</td>\n",
              "            <td>2</td>\n",
              "        </tr>\n",
              "    </tbody>\n",
              "</table>"
            ],
            "text/plain": [
              "[(1, 'Orwell', 'George', 1903, 1),\n",
              " (2, 'Herbert', 'Frank', 1920, 1),\n",
              " (3, 'Asimov', 'Isaac', 1920, 1),\n",
              " (4, 'Huxley', 'Aldous', 1894, 1),\n",
              " (5, 'Bradbury', 'Ray', 1920, 1),\n",
              " (6, 'K. Dick', 'Philip', 1928, 1),\n",
              " (7, 'Barjavel', 'René', 1911, 2),\n",
              " (8, 'Boulle', 'Pierre', 1912, 2),\n",
              " (9, 'Van Vogt', 'Alfred Elton', 1912, 1),\n",
              " (10, 'Verne', 'Jules', 1828, 2)]"
            ]
          },
          "metadata": {
            "tags": []
          },
          "execution_count": 26
        }
      ]
    },
    {
      "cell_type": "code",
      "metadata": {
        "colab": {
          "base_uri": "https://localhost:8080/",
          "height": 495
        },
        "id": "ogC7uRF-HnNT",
        "outputId": "9f0cdedf-a1a6-4c5d-8ecd-1d3cb3f2a41f"
      },
      "source": [
        "%sql SELECT * FROM Langues, Auteurs;"
      ],
      "execution_count": null,
      "outputs": [
        {
          "output_type": "stream",
          "text": [
            " * sqlite:////content/gdrive/MyDrive/Partage/livres_AF.db\n",
            "Done.\n"
          ],
          "name": "stdout"
        },
        {
          "output_type": "execute_result",
          "data": {
            "text/html": [
              "<table>\n",
              "    <thead>\n",
              "        <tr>\n",
              "            <th>IdLangue</th>\n",
              "            <th>Langue</th>\n",
              "            <th>IdAuteur</th>\n",
              "            <th>Nom</th>\n",
              "            <th>Prenom</th>\n",
              "            <th>AnneeNaissance</th>\n",
              "            <th>IdLangue_1</th>\n",
              "        </tr>\n",
              "    </thead>\n",
              "    <tbody>\n",
              "        <tr>\n",
              "            <td>1</td>\n",
              "            <td>Anglais</td>\n",
              "            <td>1</td>\n",
              "            <td>Orwell</td>\n",
              "            <td>George</td>\n",
              "            <td>1903</td>\n",
              "            <td>1</td>\n",
              "        </tr>\n",
              "        <tr>\n",
              "            <td>1</td>\n",
              "            <td>Anglais</td>\n",
              "            <td>2</td>\n",
              "            <td>Herbert</td>\n",
              "            <td>Frank</td>\n",
              "            <td>1920</td>\n",
              "            <td>1</td>\n",
              "        </tr>\n",
              "        <tr>\n",
              "            <td>1</td>\n",
              "            <td>Anglais</td>\n",
              "            <td>3</td>\n",
              "            <td>Asimov</td>\n",
              "            <td>Isaac</td>\n",
              "            <td>1920</td>\n",
              "            <td>1</td>\n",
              "        </tr>\n",
              "        <tr>\n",
              "            <td>1</td>\n",
              "            <td>Anglais</td>\n",
              "            <td>4</td>\n",
              "            <td>Huxley</td>\n",
              "            <td>Aldous</td>\n",
              "            <td>1894</td>\n",
              "            <td>1</td>\n",
              "        </tr>\n",
              "        <tr>\n",
              "            <td>1</td>\n",
              "            <td>Anglais</td>\n",
              "            <td>5</td>\n",
              "            <td>Bradbury</td>\n",
              "            <td>Ray</td>\n",
              "            <td>1920</td>\n",
              "            <td>1</td>\n",
              "        </tr>\n",
              "        <tr>\n",
              "            <td>1</td>\n",
              "            <td>Anglais</td>\n",
              "            <td>6</td>\n",
              "            <td>K. Dick</td>\n",
              "            <td>Philip</td>\n",
              "            <td>1928</td>\n",
              "            <td>1</td>\n",
              "        </tr>\n",
              "        <tr>\n",
              "            <td>1</td>\n",
              "            <td>Anglais</td>\n",
              "            <td>7</td>\n",
              "            <td>Barjavel</td>\n",
              "            <td>René</td>\n",
              "            <td>1911</td>\n",
              "            <td>2</td>\n",
              "        </tr>\n",
              "        <tr>\n",
              "            <td>1</td>\n",
              "            <td>Anglais</td>\n",
              "            <td>8</td>\n",
              "            <td>Boulle</td>\n",
              "            <td>Pierre</td>\n",
              "            <td>1912</td>\n",
              "            <td>2</td>\n",
              "        </tr>\n",
              "        <tr>\n",
              "            <td>1</td>\n",
              "            <td>Anglais</td>\n",
              "            <td>9</td>\n",
              "            <td>Van Vogt</td>\n",
              "            <td>Alfred Elton</td>\n",
              "            <td>1912</td>\n",
              "            <td>1</td>\n",
              "        </tr>\n",
              "        <tr>\n",
              "            <td>1</td>\n",
              "            <td>Anglais</td>\n",
              "            <td>10</td>\n",
              "            <td>Verne</td>\n",
              "            <td>Jules</td>\n",
              "            <td>1828</td>\n",
              "            <td>2</td>\n",
              "        </tr>\n",
              "        <tr>\n",
              "            <td>2</td>\n",
              "            <td>Français</td>\n",
              "            <td>1</td>\n",
              "            <td>Orwell</td>\n",
              "            <td>George</td>\n",
              "            <td>1903</td>\n",
              "            <td>1</td>\n",
              "        </tr>\n",
              "        <tr>\n",
              "            <td>2</td>\n",
              "            <td>Français</td>\n",
              "            <td>2</td>\n",
              "            <td>Herbert</td>\n",
              "            <td>Frank</td>\n",
              "            <td>1920</td>\n",
              "            <td>1</td>\n",
              "        </tr>\n",
              "        <tr>\n",
              "            <td>2</td>\n",
              "            <td>Français</td>\n",
              "            <td>3</td>\n",
              "            <td>Asimov</td>\n",
              "            <td>Isaac</td>\n",
              "            <td>1920</td>\n",
              "            <td>1</td>\n",
              "        </tr>\n",
              "        <tr>\n",
              "            <td>2</td>\n",
              "            <td>Français</td>\n",
              "            <td>4</td>\n",
              "            <td>Huxley</td>\n",
              "            <td>Aldous</td>\n",
              "            <td>1894</td>\n",
              "            <td>1</td>\n",
              "        </tr>\n",
              "        <tr>\n",
              "            <td>2</td>\n",
              "            <td>Français</td>\n",
              "            <td>5</td>\n",
              "            <td>Bradbury</td>\n",
              "            <td>Ray</td>\n",
              "            <td>1920</td>\n",
              "            <td>1</td>\n",
              "        </tr>\n",
              "        <tr>\n",
              "            <td>2</td>\n",
              "            <td>Français</td>\n",
              "            <td>6</td>\n",
              "            <td>K. Dick</td>\n",
              "            <td>Philip</td>\n",
              "            <td>1928</td>\n",
              "            <td>1</td>\n",
              "        </tr>\n",
              "        <tr>\n",
              "            <td>2</td>\n",
              "            <td>Français</td>\n",
              "            <td>7</td>\n",
              "            <td>Barjavel</td>\n",
              "            <td>René</td>\n",
              "            <td>1911</td>\n",
              "            <td>2</td>\n",
              "        </tr>\n",
              "        <tr>\n",
              "            <td>2</td>\n",
              "            <td>Français</td>\n",
              "            <td>8</td>\n",
              "            <td>Boulle</td>\n",
              "            <td>Pierre</td>\n",
              "            <td>1912</td>\n",
              "            <td>2</td>\n",
              "        </tr>\n",
              "        <tr>\n",
              "            <td>2</td>\n",
              "            <td>Français</td>\n",
              "            <td>9</td>\n",
              "            <td>Van Vogt</td>\n",
              "            <td>Alfred Elton</td>\n",
              "            <td>1912</td>\n",
              "            <td>1</td>\n",
              "        </tr>\n",
              "        <tr>\n",
              "            <td>2</td>\n",
              "            <td>Français</td>\n",
              "            <td>10</td>\n",
              "            <td>Verne</td>\n",
              "            <td>Jules</td>\n",
              "            <td>1828</td>\n",
              "            <td>2</td>\n",
              "        </tr>\n",
              "    </tbody>\n",
              "</table>"
            ],
            "text/plain": [
              "[(1, 'Anglais', 1, 'Orwell', 'George', 1903, 1),\n",
              " (1, 'Anglais', 2, 'Herbert', 'Frank', 1920, 1),\n",
              " (1, 'Anglais', 3, 'Asimov', 'Isaac', 1920, 1),\n",
              " (1, 'Anglais', 4, 'Huxley', 'Aldous', 1894, 1),\n",
              " (1, 'Anglais', 5, 'Bradbury', 'Ray', 1920, 1),\n",
              " (1, 'Anglais', 6, 'K. Dick', 'Philip', 1928, 1),\n",
              " (1, 'Anglais', 7, 'Barjavel', 'René', 1911, 2),\n",
              " (1, 'Anglais', 8, 'Boulle', 'Pierre', 1912, 2),\n",
              " (1, 'Anglais', 9, 'Van Vogt', 'Alfred Elton', 1912, 1),\n",
              " (1, 'Anglais', 10, 'Verne', 'Jules', 1828, 2),\n",
              " (2, 'Français', 1, 'Orwell', 'George', 1903, 1),\n",
              " (2, 'Français', 2, 'Herbert', 'Frank', 1920, 1),\n",
              " (2, 'Français', 3, 'Asimov', 'Isaac', 1920, 1),\n",
              " (2, 'Français', 4, 'Huxley', 'Aldous', 1894, 1),\n",
              " (2, 'Français', 5, 'Bradbury', 'Ray', 1920, 1),\n",
              " (2, 'Français', 6, 'K. Dick', 'Philip', 1928, 1),\n",
              " (2, 'Français', 7, 'Barjavel', 'René', 1911, 2),\n",
              " (2, 'Français', 8, 'Boulle', 'Pierre', 1912, 2),\n",
              " (2, 'Français', 9, 'Van Vogt', 'Alfred Elton', 1912, 1),\n",
              " (2, 'Français', 10, 'Verne', 'Jules', 1828, 2)]"
            ]
          },
          "metadata": {
            "tags": []
          },
          "execution_count": 27
        }
      ]
    },
    {
      "cell_type": "markdown",
      "metadata": {
        "deletable": false,
        "editable": false,
        "nbgrader": {
          "cell_type": "markdown",
          "checksum": "88cdec8895953727acc224106ae44455",
          "grade": false,
          "grade_id": "cell-773496f249e55995",
          "locked": true,
          "schema_version": 3,
          "solution": false,
          "task": false
        },
        "id": "svkXRIR-gm_K"
      },
      "source": [
        "Comme on peut le constater cette requête est peu pertinente car elle affiche toutes les données de chacune des tables sans effectuer de correspondances. La **clé de jointure** apparaît pourtant ici clairement : il s'agit de **id_langue** qui doit permettre de recouper les informations entre les deux tables : il est en effet inutile d'afficher les données pour lesquelles les langues ne correspondent pas entre les deux tables.\n",
        "\n",
        "### Jointure\n",
        "\n",
        "La **jonture** consiste à croiser les données de plusieurs tables pour les présenter sous forme d'un seul tableau. On va utiliser ce mécanisme pour afficher clairement la langue de l'auteur plutôt qu'un numéro qui n'est pas forcément très parlant. Nous utiliserons pour cela l'opérateur **JOIN ... ON** :"
      ]
    },
    {
      "cell_type": "code",
      "metadata": {
        "deletable": false,
        "editable": false,
        "nbgrader": {
          "cell_type": "code",
          "checksum": "0170bc373fe9e9e8955bc8de2e5b2fd3",
          "grade": false,
          "grade_id": "cell-614b923b97a265a2",
          "locked": true,
          "schema_version": 3,
          "solution": false,
          "task": false
        },
        "id": "Qx8an3o1gm_K",
        "colab": {
          "base_uri": "https://localhost:8080/",
          "height": 285
        },
        "outputId": "bc65fba2-5853-4b0d-c137-964610749d89"
      },
      "source": [
        "%sql SELECT Nom, Prenom, Langue, AnneeNaissance  FROM Auteurs JOIN Langues ON Auteurs.IdLangue = Langues.IdLangue"
      ],
      "execution_count": null,
      "outputs": [
        {
          "output_type": "stream",
          "text": [
            " * sqlite:////content/gdrive/MyDrive/Partage/livres_AF.db\n",
            "Done.\n"
          ],
          "name": "stdout"
        },
        {
          "output_type": "execute_result",
          "data": {
            "text/html": [
              "<table>\n",
              "    <thead>\n",
              "        <tr>\n",
              "            <th>Nom</th>\n",
              "            <th>Prenom</th>\n",
              "            <th>Langue</th>\n",
              "            <th>AnneeNaissance</th>\n",
              "        </tr>\n",
              "    </thead>\n",
              "    <tbody>\n",
              "        <tr>\n",
              "            <td>Orwell</td>\n",
              "            <td>George</td>\n",
              "            <td>Anglais</td>\n",
              "            <td>1903</td>\n",
              "        </tr>\n",
              "        <tr>\n",
              "            <td>Herbert</td>\n",
              "            <td>Frank</td>\n",
              "            <td>Anglais</td>\n",
              "            <td>1920</td>\n",
              "        </tr>\n",
              "        <tr>\n",
              "            <td>Asimov</td>\n",
              "            <td>Isaac</td>\n",
              "            <td>Anglais</td>\n",
              "            <td>1920</td>\n",
              "        </tr>\n",
              "        <tr>\n",
              "            <td>Huxley</td>\n",
              "            <td>Aldous</td>\n",
              "            <td>Anglais</td>\n",
              "            <td>1894</td>\n",
              "        </tr>\n",
              "        <tr>\n",
              "            <td>Bradbury</td>\n",
              "            <td>Ray</td>\n",
              "            <td>Anglais</td>\n",
              "            <td>1920</td>\n",
              "        </tr>\n",
              "        <tr>\n",
              "            <td>K. Dick</td>\n",
              "            <td>Philip</td>\n",
              "            <td>Anglais</td>\n",
              "            <td>1928</td>\n",
              "        </tr>\n",
              "        <tr>\n",
              "            <td>Barjavel</td>\n",
              "            <td>René</td>\n",
              "            <td>Français</td>\n",
              "            <td>1911</td>\n",
              "        </tr>\n",
              "        <tr>\n",
              "            <td>Boulle</td>\n",
              "            <td>Pierre</td>\n",
              "            <td>Français</td>\n",
              "            <td>1912</td>\n",
              "        </tr>\n",
              "        <tr>\n",
              "            <td>Van Vogt</td>\n",
              "            <td>Alfred Elton</td>\n",
              "            <td>Anglais</td>\n",
              "            <td>1912</td>\n",
              "        </tr>\n",
              "        <tr>\n",
              "            <td>Verne</td>\n",
              "            <td>Jules</td>\n",
              "            <td>Français</td>\n",
              "            <td>1828</td>\n",
              "        </tr>\n",
              "    </tbody>\n",
              "</table>"
            ],
            "text/plain": [
              "[('Orwell', 'George', 'Anglais', 1903),\n",
              " ('Herbert', 'Frank', 'Anglais', 1920),\n",
              " ('Asimov', 'Isaac', 'Anglais', 1920),\n",
              " ('Huxley', 'Aldous', 'Anglais', 1894),\n",
              " ('Bradbury', 'Ray', 'Anglais', 1920),\n",
              " ('K. Dick', 'Philip', 'Anglais', 1928),\n",
              " ('Barjavel', 'René', 'Français', 1911),\n",
              " ('Boulle', 'Pierre', 'Français', 1912),\n",
              " ('Van Vogt', 'Alfred Elton', 'Anglais', 1912),\n",
              " ('Verne', 'Jules', 'Français', 1828)]"
            ]
          },
          "metadata": {
            "tags": []
          },
          "execution_count": 19
        }
      ]
    },
    {
      "cell_type": "markdown",
      "metadata": {
        "deletable": false,
        "editable": false,
        "nbgrader": {
          "cell_type": "markdown",
          "checksum": "c6aefdac973f52ffa8f872d505684db2",
          "grade": false,
          "grade_id": "cell-9161a13984be1f08",
          "locked": true,
          "schema_version": 3,
          "solution": false,
          "task": false
        },
        "id": "U9EAsDw1gm_K"
      },
      "source": [
        "Les champs sur lesquels faire la jointure **ayant les mêmes noms dans les 2 tables**, cette requête peut aussi être écrite plus simplement en utilisant le mot-clé **USING** ainsi : "
      ]
    },
    {
      "cell_type": "code",
      "metadata": {
        "deletable": false,
        "editable": false,
        "nbgrader": {
          "cell_type": "code",
          "checksum": "be74db019e987d705c00a2626a8b18b0",
          "grade": false,
          "grade_id": "cell-03d184d2a419c24d",
          "locked": true,
          "schema_version": 3,
          "solution": false,
          "task": false
        },
        "id": "svhyimpvgm_K",
        "colab": {
          "base_uri": "https://localhost:8080/",
          "height": 285
        },
        "outputId": "1b6b8bda-56ba-4a90-c508-35c7b4141d42"
      },
      "source": [
        "%sql SELECT Nom, Prenom, Langue, AnneeNaissance  FROM Auteurs JOIN Langues USING (IdLangue)"
      ],
      "execution_count": null,
      "outputs": [
        {
          "output_type": "stream",
          "text": [
            " * sqlite:////content/gdrive/MyDrive/Partage/livres_AF.db\n",
            "Done.\n"
          ],
          "name": "stdout"
        },
        {
          "output_type": "execute_result",
          "data": {
            "text/html": [
              "<table>\n",
              "    <thead>\n",
              "        <tr>\n",
              "            <th>Nom</th>\n",
              "            <th>Prenom</th>\n",
              "            <th>Langue</th>\n",
              "            <th>AnneeNaissance</th>\n",
              "        </tr>\n",
              "    </thead>\n",
              "    <tbody>\n",
              "        <tr>\n",
              "            <td>Orwell</td>\n",
              "            <td>George</td>\n",
              "            <td>Anglais</td>\n",
              "            <td>1903</td>\n",
              "        </tr>\n",
              "        <tr>\n",
              "            <td>Herbert</td>\n",
              "            <td>Frank</td>\n",
              "            <td>Anglais</td>\n",
              "            <td>1920</td>\n",
              "        </tr>\n",
              "        <tr>\n",
              "            <td>Asimov</td>\n",
              "            <td>Isaac</td>\n",
              "            <td>Anglais</td>\n",
              "            <td>1920</td>\n",
              "        </tr>\n",
              "        <tr>\n",
              "            <td>Huxley</td>\n",
              "            <td>Aldous</td>\n",
              "            <td>Anglais</td>\n",
              "            <td>1894</td>\n",
              "        </tr>\n",
              "        <tr>\n",
              "            <td>Bradbury</td>\n",
              "            <td>Ray</td>\n",
              "            <td>Anglais</td>\n",
              "            <td>1920</td>\n",
              "        </tr>\n",
              "        <tr>\n",
              "            <td>K. Dick</td>\n",
              "            <td>Philip</td>\n",
              "            <td>Anglais</td>\n",
              "            <td>1928</td>\n",
              "        </tr>\n",
              "        <tr>\n",
              "            <td>Barjavel</td>\n",
              "            <td>René</td>\n",
              "            <td>Français</td>\n",
              "            <td>1911</td>\n",
              "        </tr>\n",
              "        <tr>\n",
              "            <td>Boulle</td>\n",
              "            <td>Pierre</td>\n",
              "            <td>Français</td>\n",
              "            <td>1912</td>\n",
              "        </tr>\n",
              "        <tr>\n",
              "            <td>Van Vogt</td>\n",
              "            <td>Alfred Elton</td>\n",
              "            <td>Anglais</td>\n",
              "            <td>1912</td>\n",
              "        </tr>\n",
              "        <tr>\n",
              "            <td>Verne</td>\n",
              "            <td>Jules</td>\n",
              "            <td>Français</td>\n",
              "            <td>1828</td>\n",
              "        </tr>\n",
              "    </tbody>\n",
              "</table>"
            ],
            "text/plain": [
              "[('Orwell', 'George', 'Anglais', 1903),\n",
              " ('Herbert', 'Frank', 'Anglais', 1920),\n",
              " ('Asimov', 'Isaac', 'Anglais', 1920),\n",
              " ('Huxley', 'Aldous', 'Anglais', 1894),\n",
              " ('Bradbury', 'Ray', 'Anglais', 1920),\n",
              " ('K. Dick', 'Philip', 'Anglais', 1928),\n",
              " ('Barjavel', 'René', 'Français', 1911),\n",
              " ('Boulle', 'Pierre', 'Français', 1912),\n",
              " ('Van Vogt', 'Alfred Elton', 'Anglais', 1912),\n",
              " ('Verne', 'Jules', 'Français', 1828)]"
            ]
          },
          "metadata": {
            "tags": []
          },
          "execution_count": 20
        }
      ]
    },
    {
      "cell_type": "markdown",
      "metadata": {
        "deletable": false,
        "editable": false,
        "nbgrader": {
          "cell_type": "markdown",
          "checksum": "93e8f7ae82beece63631fefb773bcd45",
          "grade": false,
          "grade_id": "cell-04914d54ccce83c0",
          "locked": true,
          "schema_version": 3,
          "solution": false,
          "task": false
        },
        "id": "B9CPMZRogm_K"
      },
      "source": [
        "### A vous de jouer\n",
        "En croisant la table **Livres** avec la table **Auteurs**\n",
        "\n",
        "1. récupérer dans la variable `reponse_1` une liste dont les attributs sont **Titre**, **PrenomAuteur**, **NomAuteur** et **AnneePubli**, triée du plus récent au plus ancien.\n",
        "1. récupérer dans la variable `reponse_2` une liste dont les attributs sont **Titre**, **PrenomAuteur**, **NomAuteur** et **AnneePubli** écrits en français."
      ]
    },
    {
      "cell_type": "code",
      "metadata": {
        "deletable": false,
        "nbgrader": {
          "cell_type": "code",
          "checksum": "9f54440a7eed96d8a33814d177c08198",
          "grade": false,
          "grade_id": "cell-fd66bab03326fa03",
          "locked": false,
          "schema_version": 3,
          "solution": true,
          "task": false
        },
        "id": "vglgwIplgm_K",
        "colab": {
          "base_uri": "https://localhost:8080/"
        },
        "outputId": "080cdd7c-e97b-4f7d-8038-0a4026baef72"
      },
      "source": [
        "# Utiliser la syntaxe courte \n",
        "reponse_1 = %sql select Titre, Prenom, Nom, AnneePubli from Livres join Auteurs using (IdAuteur) order by AnneePubli DESC\n",
        "reponse_2 = %sql select Titre, Prenom, Nom, AnneePubli from Livres join Auteurs using (IdAuteur) where Auteurs.IdLangue == 2"
      ],
      "execution_count": null,
      "outputs": [
        {
          "output_type": "stream",
          "text": [
            " * sqlite:////content/gdrive/MyDrive/Partage/livres_AF.db\n",
            "Done.\n",
            " * sqlite:////content/gdrive/MyDrive/Partage/livres_AF.db\n",
            "Done.\n"
          ],
          "name": "stdout"
        }
      ]
    },
    {
      "cell_type": "code",
      "metadata": {
        "id": "8M5uU1vCgm_K",
        "colab": {
          "base_uri": "https://localhost:8080/"
        },
        "outputId": "7bdb50d4-1749-4b6f-bf18-a08f91246279"
      },
      "source": [
        "print(reponse_1)\n",
        "print(reponse_2)"
      ],
      "execution_count": null,
      "outputs": [
        {
          "output_type": "stream",
          "text": [
            "+---------------------------+--------------+----------+------------+\n",
            "|           Titre           |    Prenom    |   Nom    | AnneePubli |\n",
            "+---------------------------+--------------+----------+------------+\n",
            "|            Ubik           |    Philip    | K. Dick  |    1969    |\n",
            "|     La nuit des temps     |     René     | Barjavel |    1968    |\n",
            "|        Blade Runner       |    Philip    | K. Dick  |    1968    |\n",
            "|            Dune           |    Frank     | Herbert  |    1965    |\n",
            "|   La Planète des singes   |    Pierre    |  Boulle  |    1963    |\n",
            "| Le Maître du Haut Château |    Philip    | K. Dick  |    1962    |\n",
            "|    La Fin de l’éternité   |    Isaac     |  Asimov  |    1955    |\n",
            "|       Fahrenheit 451      |     Ray      | Bradbury |    1953    |\n",
            "|         Fondation         |    Isaac     |  Asimov  |    1951    |\n",
            "|   Chroniques martiennes   |     Ray      | Bradbury |    1950    |\n",
            "|         Les Robots        |    Isaac     |  Asimov  |    1950    |\n",
            "|            1984           |    George    |  Orwell  |    1949    |\n",
            "|       Le monde des A      | Alfred Elton | Van Vogt |    1945    |\n",
            "|           Ravage          |     René     | Barjavel |    1943    |\n",
            "|   Le meilleur des mondes  |    Aldous    |  Huxley  |    1931    |\n",
            "|   De la Terre à la Lune   |    Jules     |  Verne   |    1865    |\n",
            "+---------------------------+--------------+----------+------------+\n",
            "+-----------------------+--------+----------+------------+\n",
            "|         Titre         | Prenom |   Nom    | AnneePubli |\n",
            "+-----------------------+--------+----------+------------+\n",
            "|   La nuit des temps   |  René  | Barjavel |    1968    |\n",
            "| La Planète des singes | Pierre |  Boulle  |    1963    |\n",
            "|         Ravage        |  René  | Barjavel |    1943    |\n",
            "| De la Terre à la Lune | Jules  |  Verne   |    1865    |\n",
            "+-----------------------+--------+----------+------------+\n"
          ],
          "name": "stdout"
        }
      ]
    },
    {
      "cell_type": "code",
      "metadata": {
        "deletable": false,
        "editable": false,
        "nbgrader": {
          "cell_type": "code",
          "checksum": "08e38e2a121b163aead55d03c5d325da",
          "grade": true,
          "grade_id": "cell-748883b92342a1c5",
          "locked": true,
          "points": 1,
          "schema_version": 3,
          "solution": false,
          "task": false
        },
        "id": "p93cRVXCgm_L"
      },
      "source": [
        "assert reponse_1[0] == ('Ubik', 'Philip', 'K. Dick', 1969)\n",
        "assert reponse_2[0] == ('La nuit des temps', 'René', 'Barjavel', 1968)"
      ],
      "execution_count": null,
      "outputs": []
    },
    {
      "cell_type": "markdown",
      "metadata": {
        "deletable": false,
        "editable": false,
        "nbgrader": {
          "cell_type": "markdown",
          "checksum": "41c0eb8478523fe72a1b21055169e334",
          "grade": false,
          "grade_id": "cell-1ac3628ef6c98e54",
          "locked": true,
          "schema_version": 3,
          "solution": false,
          "task": false
        },
        "id": "0eCFle49gm_L"
      },
      "source": [
        "### Le cas des relations de n à n\n",
        "\n",
        "Parfois il arrive que les données à collecter se trouvent dans plus que deux tables : c'est le cas des Thèmes pour les livres qui nécessitent l'analyse de 3 tables : **Livres** et **Thèmes** bien sûr, mais aussi la table de relation **RelationsLivreTheme**.\n",
        "\n",
        "Observez et étudiez la requête suivante : Le principe est d'enchaîner deux jointures **JOIN ... USING** en utilisant ***la table de Relation au milieu***. En effet, la requête se lit de la gauche vers la droite et on ne peut faire de jointure que si on a une clé externe en commun, ce qui n'est par exemple pas le cas entre **Livres** et **Thèmes**."
      ]
    },
    {
      "cell_type": "code",
      "metadata": {
        "deletable": false,
        "editable": false,
        "nbgrader": {
          "cell_type": "code",
          "checksum": "abf529850060f489ef2a3b94b7309173",
          "grade": false,
          "grade_id": "cell-6fa9774033a9b26a",
          "locked": true,
          "schema_version": 3,
          "solution": false,
          "task": false
        },
        "id": "eWvRl4yDgm_L",
        "colab": {
          "base_uri": "https://localhost:8080/",
          "height": 808
        },
        "outputId": "0f7e8455-16cb-4756-be21-2120e3ec1dad"
      },
      "source": [
        "%sql SELECT Titre, Intitule FROM Livres JOIN RelationsLivreTheme USING (IdLivre) JOIN Themes USING (IdTheme)"
      ],
      "execution_count": null,
      "outputs": [
        {
          "output_type": "stream",
          "text": [
            " * sqlite:////content/gdrive/MyDrive/Partage/livres_AF.db\n",
            "Done.\n"
          ],
          "name": "stdout"
        },
        {
          "output_type": "execute_result",
          "data": {
            "text/html": [
              "<table>\n",
              "    <thead>\n",
              "        <tr>\n",
              "            <th>Titre</th>\n",
              "            <th>Intitule</th>\n",
              "        </tr>\n",
              "    </thead>\n",
              "    <tbody>\n",
              "        <tr>\n",
              "            <td>1984</td>\n",
              "            <td>Totalitarisme</td>\n",
              "        </tr>\n",
              "        <tr>\n",
              "            <td>1984</td>\n",
              "            <td>science-fiction</td>\n",
              "        </tr>\n",
              "        <tr>\n",
              "            <td>1984</td>\n",
              "            <td>anticipation</td>\n",
              "        </tr>\n",
              "        <tr>\n",
              "            <td>1984</td>\n",
              "            <td>dystopie</td>\n",
              "        </tr>\n",
              "        <tr>\n",
              "            <td>Dune</td>\n",
              "            <td>science-fiction</td>\n",
              "        </tr>\n",
              "        <tr>\n",
              "            <td>Dune</td>\n",
              "            <td>anticipation</td>\n",
              "        </tr>\n",
              "        <tr>\n",
              "            <td>Fondation</td>\n",
              "            <td>science-fiction</td>\n",
              "        </tr>\n",
              "        <tr>\n",
              "            <td>Fondation</td>\n",
              "            <td>économie</td>\n",
              "        </tr>\n",
              "        <tr>\n",
              "            <td>Le meilleur des mondes</td>\n",
              "            <td>Totalitarisme</td>\n",
              "        </tr>\n",
              "        <tr>\n",
              "            <td>Le meilleur des mondes</td>\n",
              "            <td>science-fiction</td>\n",
              "        </tr>\n",
              "        <tr>\n",
              "            <td>Le meilleur des mondes</td>\n",
              "            <td>dystopie</td>\n",
              "        </tr>\n",
              "        <tr>\n",
              "            <td>Fahrenheit 451</td>\n",
              "            <td>science-fiction</td>\n",
              "        </tr>\n",
              "        <tr>\n",
              "            <td>Fahrenheit 451</td>\n",
              "            <td>dystopie</td>\n",
              "        </tr>\n",
              "        <tr>\n",
              "            <td>Ubik</td>\n",
              "            <td>science-fiction</td>\n",
              "        </tr>\n",
              "        <tr>\n",
              "            <td>Ubik</td>\n",
              "            <td>anticipation</td>\n",
              "        </tr>\n",
              "        <tr>\n",
              "            <td>Chroniques martiennes</td>\n",
              "            <td>science-fiction</td>\n",
              "        </tr>\n",
              "        <tr>\n",
              "            <td>Chroniques martiennes</td>\n",
              "            <td>anticipation</td>\n",
              "        </tr>\n",
              "        <tr>\n",
              "            <td>La nuit des temps</td>\n",
              "            <td>science-fiction</td>\n",
              "        </tr>\n",
              "        <tr>\n",
              "            <td>La nuit des temps</td>\n",
              "            <td>tragédie</td>\n",
              "        </tr>\n",
              "        <tr>\n",
              "            <td>Blade Runner</td>\n",
              "            <td>intelligence artificielle</td>\n",
              "        </tr>\n",
              "        <tr>\n",
              "            <td>Blade Runner</td>\n",
              "            <td>science-fiction</td>\n",
              "        </tr>\n",
              "        <tr>\n",
              "            <td>Les Robots</td>\n",
              "            <td>science-fiction</td>\n",
              "        </tr>\n",
              "        <tr>\n",
              "            <td>Les Robots</td>\n",
              "            <td>intelligence artificielle</td>\n",
              "        </tr>\n",
              "        <tr>\n",
              "            <td>La Planète des singes</td>\n",
              "            <td>science-fiction</td>\n",
              "        </tr>\n",
              "        <tr>\n",
              "            <td>La Planète des singes</td>\n",
              "            <td>dystopie</td>\n",
              "        </tr>\n",
              "        <tr>\n",
              "            <td>Ravage</td>\n",
              "            <td>science-fiction</td>\n",
              "        </tr>\n",
              "        <tr>\n",
              "            <td>Ravage</td>\n",
              "            <td>anticipation</td>\n",
              "        </tr>\n",
              "        <tr>\n",
              "            <td>Le Maître du Haut Château</td>\n",
              "            <td>dystopie</td>\n",
              "        </tr>\n",
              "        <tr>\n",
              "            <td>Le Maître du Haut Château</td>\n",
              "            <td>uchronie</td>\n",
              "        </tr>\n",
              "        <tr>\n",
              "            <td>Le monde des A</td>\n",
              "            <td>science-fiction</td>\n",
              "        </tr>\n",
              "        <tr>\n",
              "            <td>Le monde des A</td>\n",
              "            <td>intelligence artificielle</td>\n",
              "        </tr>\n",
              "        <tr>\n",
              "            <td>La Fin de l’éternité</td>\n",
              "            <td>science-fiction</td>\n",
              "        </tr>\n",
              "        <tr>\n",
              "            <td>La Fin de l’éternité</td>\n",
              "            <td>voyage dans le temps</td>\n",
              "        </tr>\n",
              "        <tr>\n",
              "            <td>De la Terre à la Lune</td>\n",
              "            <td>science-fiction</td>\n",
              "        </tr>\n",
              "        <tr>\n",
              "            <td>De la Terre à la Lune</td>\n",
              "            <td>aventure</td>\n",
              "        </tr>\n",
              "    </tbody>\n",
              "</table>"
            ],
            "text/plain": [
              "[('1984', 'Totalitarisme'),\n",
              " ('1984', 'science-fiction'),\n",
              " ('1984', 'anticipation'),\n",
              " ('1984', 'dystopie'),\n",
              " ('Dune', 'science-fiction'),\n",
              " ('Dune', 'anticipation'),\n",
              " ('Fondation', 'science-fiction'),\n",
              " ('Fondation', 'économie'),\n",
              " ('Le meilleur des mondes', 'Totalitarisme'),\n",
              " ('Le meilleur des mondes', 'science-fiction'),\n",
              " ('Le meilleur des mondes', 'dystopie'),\n",
              " ('Fahrenheit 451', 'science-fiction'),\n",
              " ('Fahrenheit 451', 'dystopie'),\n",
              " ('Ubik', 'science-fiction'),\n",
              " ('Ubik', 'anticipation'),\n",
              " ('Chroniques martiennes', 'science-fiction'),\n",
              " ('Chroniques martiennes', 'anticipation'),\n",
              " ('La nuit des temps', 'science-fiction'),\n",
              " ('La nuit des temps', 'tragédie'),\n",
              " ('Blade Runner', 'intelligence artificielle'),\n",
              " ('Blade Runner', 'science-fiction'),\n",
              " ('Les Robots', 'science-fiction'),\n",
              " ('Les Robots', 'intelligence artificielle'),\n",
              " ('La Planète des singes', 'science-fiction'),\n",
              " ('La Planète des singes', 'dystopie'),\n",
              " ('Ravage', 'science-fiction'),\n",
              " ('Ravage', 'anticipation'),\n",
              " ('Le Maître du Haut Château', 'dystopie'),\n",
              " ('Le Maître du Haut Château', 'uchronie'),\n",
              " ('Le monde des A', 'science-fiction'),\n",
              " ('Le monde des A', 'intelligence artificielle'),\n",
              " ('La Fin de l’éternité', 'science-fiction'),\n",
              " ('La Fin de l’éternité', 'voyage dans le temps'),\n",
              " ('De la Terre à la Lune', 'science-fiction'),\n",
              " ('De la Terre à la Lune', 'aventure')]"
            ]
          },
          "metadata": {
            "tags": []
          },
          "execution_count": 30
        }
      ]
    },
    {
      "cell_type": "markdown",
      "metadata": {
        "deletable": false,
        "editable": false,
        "nbgrader": {
          "cell_type": "markdown",
          "checksum": "6ff1c6801ad81698187080f5a10d0c38",
          "grade": false,
          "grade_id": "cell-bdd7848b22dbe49e",
          "locked": true,
          "schema_version": 3,
          "solution": false,
          "task": false
        },
        "id": "kDnIL207gm_L"
      },
      "source": [
        "### A vous de jouer\n",
        "\n",
        "Ecrire une requête permettant d'obtenir une liste dont les attributs sont **Titre**, **NomAuteur** et **Langue** triée par ordre croissant de date de naissance de l'auteur.\n",
        "\n",
        "Vous stockerez le résultat dans une variable `result`"
      ]
    },
    {
      "cell_type": "code",
      "metadata": {
        "deletable": false,
        "nbgrader": {
          "cell_type": "code",
          "checksum": "437d308c55a45d6017f42138610951ae",
          "grade": false,
          "grade_id": "cell-d1e4e09a10e0d4e9",
          "locked": false,
          "schema_version": 3,
          "solution": true,
          "task": false
        },
        "id": "HnB-8hgkgm_L",
        "colab": {
          "base_uri": "https://localhost:8080/"
        },
        "outputId": "2721fbc4-669e-4e8e-89e3-3ed11a649eaa"
      },
      "source": [
        "# Utiliser la syntaxe courte \n",
        "reponse = %sql SELECT Titre, Nom, Langue FROM Livres JOIN Auteurs USING (IdAuteur) JOIN Langues USING (IdLangue) ORDER BY Auteurs.AnneeNaissance\n"
      ],
      "execution_count": null,
      "outputs": [
        {
          "output_type": "stream",
          "text": [
            " * sqlite:////content/gdrive/MyDrive/Partage/livres_AF.db\n",
            "Done.\n"
          ],
          "name": "stdout"
        }
      ]
    },
    {
      "cell_type": "code",
      "metadata": {
        "id": "4LvMb9Wfgm_M",
        "colab": {
          "base_uri": "https://localhost:8080/"
        },
        "outputId": "50f9b263-3ba8-4db9-c196-6e9ab4c43424"
      },
      "source": [
        "print (reponse)"
      ],
      "execution_count": null,
      "outputs": [
        {
          "output_type": "stream",
          "text": [
            "+---------------------------+----------+----------+\n",
            "|           Titre           |   Nom    |  Langue  |\n",
            "+---------------------------+----------+----------+\n",
            "|   De la Terre à la Lune   |  Verne   | Français |\n",
            "|   Le meilleur des mondes  |  Huxley  | Anglais  |\n",
            "|            1984           |  Orwell  | Anglais  |\n",
            "|     La nuit des temps     | Barjavel | Français |\n",
            "|           Ravage          | Barjavel | Français |\n",
            "|   La Planète des singes   |  Boulle  | Français |\n",
            "|       Le monde des A      | Van Vogt | Anglais  |\n",
            "|            Dune           | Herbert  | Anglais  |\n",
            "|         Fondation         |  Asimov  | Anglais  |\n",
            "|       Fahrenheit 451      | Bradbury | Anglais  |\n",
            "|   Chroniques martiennes   | Bradbury | Anglais  |\n",
            "|         Les Robots        |  Asimov  | Anglais  |\n",
            "|    La Fin de l’éternité   |  Asimov  | Anglais  |\n",
            "|            Ubik           | K. Dick  | Anglais  |\n",
            "|        Blade Runner       | K. Dick  | Anglais  |\n",
            "| Le Maître du Haut Château | K. Dick  | Anglais  |\n",
            "+---------------------------+----------+----------+\n"
          ],
          "name": "stdout"
        }
      ]
    },
    {
      "cell_type": "code",
      "metadata": {
        "deletable": false,
        "editable": false,
        "nbgrader": {
          "cell_type": "code",
          "checksum": "510bfffbed3d5a0c47bba70c79985f37",
          "grade": true,
          "grade_id": "cell-d0cd2873cdc7af8b",
          "locked": true,
          "points": 1,
          "schema_version": 3,
          "solution": false,
          "task": false
        },
        "id": "JGSRZLNxgm_L"
      },
      "source": [
        "assert reponse[0] == ('De la Terre à la Lune', 'Verne', 'Français')\n"
      ],
      "execution_count": null,
      "outputs": []
    }
  ]
}