{
  "nbformat": 4,
  "nbformat_minor": 0,
  "metadata": {
    "kernelspec": {
      "display_name": "Python 3",
      "language": "python",
      "name": "python3"
    },
    "language_info": {
      "codemirror_mode": {
        "name": "ipython",
        "version": 3
      },
      "file_extension": ".py",
      "mimetype": "text/x-python",
      "name": "python",
      "nbconvert_exporter": "python",
      "pygments_lexer": "ipython3",
      "version": "3.8.2"
    },
    "colab": {
      "name": "Cours_SQL_1.ipynb",
      "provenance": [],
      "collapsed_sections": [
        "wriMLzwremiz",
        "Hdz1wVOfemi6",
        "5eG-utlbemi6"
      ]
    }
  },
  "cells": [
    {
      "cell_type": "markdown",
      "metadata": {
        "id": "wriMLzwremiz"
      },
      "source": [
        "# SQL 1/3\n",
        "> Cours IMT Mines 12-2020\n",
        "\n",
        "- categories: [Cours IMT Mines 12-2020, Bases de données, SGBR-R, SQL, TP]"
      ]
    },
    {
      "cell_type": "markdown",
      "metadata": {
        "deletable": false,
        "editable": false,
        "nbgrader": {
          "cell_type": "markdown",
          "checksum": "cee8e933b07ec562a7ac002fbe442c68",
          "grade": false,
          "grade_id": "cell-731e862b0a98531c",
          "locked": true,
          "schema_version": 3,
          "solution": false,
          "task": false
        },
        "id": "rU0songMemi3"
      },
      "source": [
        "# Découverte de Google Colaboratory\n",
        "\n",
        "\n",
        "### Quelques astuces avant de débuter le notebook SQL"
      ]
    },
    {
      "cell_type": "markdown",
      "metadata": {
        "id": "PX8IB5LdjqtC"
      },
      "source": [
        "Rappel : Pour modifier une cellule : Double-cliquez (ou appuyez sur Entrée) "
      ]
    },
    {
      "cell_type": "markdown",
      "metadata": {
        "id": "V_7yXjyakPgy"
      },
      "source": [
        "Pour connecter son espace Google Drive et donc ensuite pouvoir : \n",
        "\n",
        "**- récupérer un fichier** prélablement enregistré\n",
        "\n",
        "**- sauvegarder un résultat**\n",
        "\n",
        "**- rendre persistant un fichier** que nous ré-utiliserons plus tard dans un autre notebook\n"
      ]
    },
    {
      "cell_type": "code",
      "metadata": {
        "colab": {
          "base_uri": "https://localhost:8080/"
        },
        "id": "89Juyv_XBgSJ",
        "outputId": "0d9cdc32-e6e3-48d4-a9a1-2f052d0083ac"
      },
      "source": [
        "from google.colab import drive\n",
        "# drive.mount('/content/gdrive')\n",
        "drive.mount(\"/content/gdrive\", force_remount=True)\n"
      ],
      "execution_count": 1,
      "outputs": [
        {
          "output_type": "stream",
          "text": [
            "Mounted at /content/gdrive\n"
          ],
          "name": "stdout"
        }
      ]
    },
    {
      "cell_type": "code",
      "metadata": {
        "id": "HD8msEfjgNmF"
      },
      "source": [
        "# Pour récupérer dans votre notebook Google Colaboratory un fichier situé sur votre poste de travail :\n",
        "from google.colab import files\n",
        "files.upload()"
      ],
      "execution_count": null,
      "outputs": []
    },
    {
      "cell_type": "markdown",
      "metadata": {
        "id": "feVRtUqZnWuq"
      },
      "source": [
        "\n",
        "\n",
        "Pour afficher le contenu du répertoire courant dans notre notebook : "
      ]
    },
    {
      "cell_type": "code",
      "metadata": {
        "colab": {
          "base_uri": "https://localhost:8080/"
        },
        "id": "QoNNjGE3CaQZ",
        "outputId": "867fca25-6d60-43ff-c908-f8e291a4bf1b"
      },
      "source": [
        "%ls "
      ],
      "execution_count": null,
      "outputs": [
        {
          "output_type": "stream",
          "text": [
            "'Description des tables pour le TP SQL N°1.xlsx'   \u001b[0m\u001b[01;34mgdrive\u001b[0m/   \u001b[01;34msample_data\u001b[0m/\n"
          ],
          "name": "stdout"
        }
      ]
    },
    {
      "cell_type": "markdown",
      "metadata": {
        "id": "OSwTfT57ngAM"
      },
      "source": [
        "***Attention, le contexte de travail d'un notebook n'est pas persistant : ***\n",
        "\n",
        "si vous relancez ou redémarrez un environnement d'exécution, les données de la dernière fois ne seront plus présentes, d'où l'intérêt de travailler sur un espace Google Drive si besoin de conserver des fichiers de façon permanente."
      ]
    },
    {
      "cell_type": "markdown",
      "metadata": {
        "id": "p7ocqz3rmO7o"
      },
      "source": [
        "\n",
        "Remarque : Pour supprimer un fichier si besoin :\n",
        "\n",
        "%rm **chemin_et_nom_du_fichier_à_supprimer**"
      ]
    },
    {
      "cell_type": "markdown",
      "metadata": {
        "id": "i3G3M4trmbu4"
      },
      "source": [
        "Pour se placer dans le répertoire de travail Partage dans mon Drive Google :\n",
        "\n",
        "c'est-à-dire en réalité, vu de mon notebook, dans /content/gdrive/MyDrive/Partage :"
      ]
    },
    {
      "cell_type": "code",
      "metadata": {
        "colab": {
          "base_uri": "https://localhost:8080/"
        },
        "id": "r0XYDX-yEs12",
        "outputId": "a8a81a48-6688-4ab1-f0f9-a3c93e2e3e8d"
      },
      "source": [
        "# Pour se placer dans le répertoire de travail /content/gdrive/MyDrive/Partage :\n",
        "%cd /content/gdrive/MyDrive/Partage/ \n",
        "%ls \n",
        "\n",
        "# Si beoin de supprimer les fichiers \"livre*\" déjà présents dans le répertoire de travail /content/gdrive/MyDrive/Partage \n",
        "# %rm /content/gdrive/MyDrive/Partage/livre*.*"
      ],
      "execution_count": 2,
      "outputs": [
        {
          "output_type": "stream",
          "text": [
            "/content/gdrive/MyDrive/Partage\n",
            "demo.7z  livres1_db  livres_AF.db  \u001b[0m\u001b[01;34mNotebooks_Serie_1\u001b[0m/\n"
          ],
          "name": "stdout"
        }
      ]
    },
    {
      "cell_type": "code",
      "metadata": {
        "id": "-SLxCwqSfich"
      },
      "source": [
        "# Pour télécharger, sur votre poste de travail, le fichier /content/gdrive/MyDrive/Partage/livres_db créé dans le notebook :\n",
        "\n",
        "# from google.colab import files\n",
        "# files.download('/content/gdrive/MyDrive/Partage/livres_db')\n"
      ],
      "execution_count": null,
      "outputs": []
    },
    {
      "cell_type": "markdown",
      "metadata": {
        "id": "FVe6WPiUk76_"
      },
      "source": [
        "Pour modifier le répertoire courant utilisé dans votre notebook Google Colaboratory : "
      ]
    },
    {
      "cell_type": "code",
      "metadata": {
        "colab": {
          "base_uri": "https://localhost:8080/"
        },
        "id": "4BA1A_enCXYH",
        "outputId": "a4b4a356-5570-4344-8910-31ddcb0086ca"
      },
      "source": [
        "%cd /content/"
      ],
      "execution_count": 3,
      "outputs": [
        {
          "output_type": "stream",
          "text": [
            "/content\n"
          ],
          "name": "stdout"
        }
      ]
    },
    {
      "cell_type": "markdown",
      "metadata": {
        "id": "_n4JHCmeo7uD"
      },
      "source": [
        "Pour afficher l'arborescence du répertoire courant utilisé dans votre notebook Google Colaboratory :"
      ]
    },
    {
      "cell_type": "code",
      "metadata": {
        "colab": {
          "base_uri": "https://localhost:8080/",
          "height": 35
        },
        "id": "3r4W95EYE2nX",
        "outputId": "5b103c3a-5810-484a-c312-44f6bd551224"
      },
      "source": [
        "%pwd"
      ],
      "execution_count": 4,
      "outputs": [
        {
          "output_type": "execute_result",
          "data": {
            "application/vnd.google.colaboratory.intrinsic+json": {
              "type": "string"
            },
            "text/plain": [
              "'/content'"
            ]
          },
          "metadata": {
            "tags": []
          },
          "execution_count": 4
        }
      ]
    },
    {
      "cell_type": "markdown",
      "metadata": {
        "deletable": false,
        "editable": false,
        "nbgrader": {
          "cell_type": "markdown",
          "checksum": "cee8e933b07ec562a7ac002fbe442c68",
          "grade": false,
          "grade_id": "cell-731e862b0a98531c",
          "locked": true,
          "schema_version": 3,
          "solution": false,
          "task": false
        },
        "id": "m1QC-C2xjvwl"
      },
      "source": [
        "# Découverte du langage SQL"
      ]
    },
    {
      "cell_type": "markdown",
      "metadata": {
        "deletable": false,
        "editable": false,
        "nbgrader": {
          "cell_type": "markdown",
          "checksum": "0c50cf013b8b3f94879cbc1d2d8520b7",
          "grade": false,
          "grade_id": "cell-916b8b114b6f2c6f",
          "locked": true,
          "schema_version": 3,
          "solution": false
        },
        "id": "n3XpRBSxemi4"
      },
      "source": [
        "Nous allons découvrir le langage **SQL (Structured Query Language)**\n",
        "\n",
        "Ce langage est le langage standard utilisé pour\n",
        "effectuer des requêtes sur une base de données relationnelles. \n",
        "\n",
        "Vous aller réaliser les actions suivantes dans ce TP :\n",
        "- créer des tables avec les attributs que l'on souhaite\n",
        "- insérer des enregistrements\n",
        "- faire des requêtes sur la base pour extraire des informations\n",
        "\n",
        "Nous allons mettre à profit le Notebook pour exécuter du SQL dans ce classeur,  grâce à l'extension **ipython-sql**\n",
        "\n",
        "Il faut donc indiquer que nous allons utiliser cette fonctionnalité en validant la cellule suivante :"
      ]
    },
    {
      "cell_type": "code",
      "metadata": {
        "deletable": false,
        "editable": false,
        "nbgrader": {
          "cell_type": "code",
          "checksum": "7b53d2abf3df2a5b614bebe70957ced4",
          "grade": false,
          "grade_id": "cell-390143509df6c8a7",
          "locked": true,
          "schema_version": 3,
          "solution": false
        },
        "id": "JAJa_xG5emi4"
      },
      "source": [
        "%load_ext sql\n",
        "\n",
        "# %reload_ext sql"
      ],
      "execution_count": 5,
      "outputs": []
    },
    {
      "cell_type": "markdown",
      "metadata": {
        "deletable": false,
        "editable": false,
        "nbgrader": {
          "cell_type": "markdown",
          "checksum": "71ca2b4c445c28e31f6b73fff7535d94",
          "grade": false,
          "grade_id": "cell-3e66312a97ed9a24",
          "locked": true,
          "schema_version": 3,
          "solution": false
        },
        "id": "FpLT0eYCemi5"
      },
      "source": [
        "Remarque, si vous rencontriez une erreur lors du chargement de l'extension, vous pourrez tenter de réinstaller les paquets nécessaires via les commandes\n",
        " ```bash\n",
        "pip install jupyter-sql\n",
        "pip install ipython-sql\n",
        "sudo apt install python3-sql\n",
        "```\n",
        "puis il faudrait ensuite relancer le notebook jupyter."
      ]
    },
    {
      "cell_type": "markdown",
      "metadata": {
        "deletable": false,
        "editable": false,
        "nbgrader": {
          "cell_type": "markdown",
          "checksum": "71ca2b4c445c28e31f6b73fff7535d94",
          "grade": false,
          "grade_id": "cell-3e66312a97ed9a24",
          "locked": true,
          "schema_version": 3,
          "solution": false
        },
        "id": "GMYRnAQnjrLy"
      },
      "source": [
        "## Créer la base de données\n",
        "\n",
        "Nous allons commencer par créer une base vide dans laquelle nous allons travailler :"
      ]
    },
    {
      "cell_type": "code",
      "metadata": {
        "deletable": false,
        "editable": false,
        "nbgrader": {
          "cell_type": "code",
          "checksum": "07c0881634a3b7bdbc718a3fa27ea520",
          "grade": false,
          "grade_id": "cell-44a1fca04afad327",
          "locked": true,
          "schema_version": 3,
          "solution": false
        },
        "id": "eGqsRvDYemi5",
        "colab": {
          "base_uri": "https://localhost:8080/",
          "height": 35
        },
        "outputId": "28c5a5e7-97ac-40c6-dede-1f2ddf81096c"
      },
      "source": [
        "%sql sqlite:////content/gdrive/MyDrive/TP_SQL/livres1_db.db"
      ],
      "execution_count": 6,
      "outputs": [
        {
          "output_type": "execute_result",
          "data": {
            "application/vnd.google.colaboratory.intrinsic+json": {
              "type": "string"
            },
            "text/plain": [
              "'Connected: @/content/gdrive/MyDrive/TP_SQL/livres1_db.db'"
            ]
          },
          "metadata": {
            "tags": []
          },
          "execution_count": 6
        }
      ]
    },
    {
      "cell_type": "code",
      "metadata": {
        "colab": {
          "base_uri": "https://localhost:8080/"
        },
        "id": "KGq8P9KOfXNk",
        "outputId": "efad030e-1656-4c50-cb8f-540645db5675"
      },
      "source": [
        "%ls /content/gdrive/MyDrive/TP_SQL/"
      ],
      "execution_count": 7,
      "outputs": [
        {
          "output_type": "stream",
          "text": [
            "livres1_db.db\n"
          ],
          "name": "stdout"
        }
      ]
    },
    {
      "cell_type": "markdown",
      "metadata": {
        "deletable": false,
        "editable": false,
        "nbgrader": {
          "cell_type": "markdown",
          "checksum": "634a0c21c22dc0dcbc38b2ee44cb47e5",
          "grade": false,
          "grade_id": "cell-658db7b8f11cf54e",
          "locked": true,
          "schema_version": 3,
          "solution": false
        },
        "id": "ornqhpINemi5"
      },
      "source": [
        "La base s'appelle **livres_db.db** et est au format *sqlite* qui est un gestionnaire de base de données relationnelles léger et facile à prendre en main.\n",
        "\n",
        "Les données seront inscrites dans le fichier **livres_db.db** qui vient d'être créé via ce notebook et que vous pourrez télécharger à la fin du TP.\n",
        "\n",
        "L'objectif est de peupler cette base de données avec la base **livres**. \n",
        "\n",
        "Cette base sera constituée de 4 tables :\n",
        "- **Auteurs**\n",
        "- **Livres**\n",
        "- **Langues**\n",
        "- **Themes**"
      ]
    },
    {
      "cell_type": "markdown",
      "metadata": {
        "deletable": false,
        "editable": false,
        "nbgrader": {
          "cell_type": "markdown",
          "checksum": "44cc9cec5e67a988dac3172541dea1c3",
          "grade": false,
          "grade_id": "cell-d3b96ced193ac2d1",
          "locked": true,
          "schema_version": 3,
          "solution": false
        },
        "id": "C600SbUmemi5"
      },
      "source": [
        "## Créer une table\n",
        "\n",
        "Vous allez donc commencer à alimenter notre base de données :  \n",
        "\n",
        "Commençons par créer la table **Langues** en saisissant notre première requête :"
      ]
    },
    {
      "cell_type": "code",
      "metadata": {
        "deletable": false,
        "editable": false,
        "nbgrader": {
          "cell_type": "code",
          "checksum": "fd707a29b215463f1b361b58ff49f8e9",
          "grade": false,
          "grade_id": "cell-39ce5b283f7d4825",
          "locked": true,
          "schema_version": 3,
          "solution": false,
          "task": false
        },
        "id": "OvrrRzfWemi6",
        "colab": {
          "base_uri": "https://localhost:8080/"
        },
        "outputId": "c7e869b9-07ea-49c7-9f8c-6ccfb918b553"
      },
      "source": [
        "# Si besoin de supprimer une table pré-existante :\n",
        "\n",
        "%%sql \n",
        "DROP TABLE Langues;\n",
        "\n"
      ],
      "execution_count": 42,
      "outputs": [
        {
          "output_type": "stream",
          "text": [
            " * sqlite:////content/gdrive/MyDrive/TP_SQL/livres1_db.db\n",
            "Done.\n"
          ],
          "name": "stdout"
        },
        {
          "output_type": "execute_result",
          "data": {
            "text/plain": [
              "[]"
            ]
          },
          "metadata": {
            "tags": []
          },
          "execution_count": 42
        }
      ]
    },
    {
      "cell_type": "code",
      "metadata": {
        "colab": {
          "base_uri": "https://localhost:8080/"
        },
        "id": "WsUQgCH7lfsz",
        "outputId": "ca5b69ae-cb55-4ed5-abc4-7f5a1ddd0404"
      },
      "source": [
        "%%sql \n",
        "\n",
        "CREATE TABLE Langues \n",
        "(\n",
        "IdLangue INTEGER  PRIMARY KEY,\n",
        "Langue   TEXT\n",
        ");"
      ],
      "execution_count": 43,
      "outputs": [
        {
          "output_type": "stream",
          "text": [
            " * sqlite:////content/gdrive/MyDrive/TP_SQL/livres1_db.db\n",
            "Done.\n"
          ],
          "name": "stdout"
        },
        {
          "output_type": "execute_result",
          "data": {
            "text/plain": [
              "[]"
            ]
          },
          "metadata": {
            "tags": []
          },
          "execution_count": 43
        }
      ]
    },
    {
      "cell_type": "code",
      "metadata": {
        "colab": {
          "base_uri": "https://localhost:8080/",
          "height": 76
        },
        "id": "Yz_FZ36smDVy",
        "outputId": "14d96c2d-ccc0-4419-823b-e5585ebd4dba"
      },
      "source": [
        "%%sql \n",
        "\n",
        "SELECT * FROM Langues;\n"
      ],
      "execution_count": 44,
      "outputs": [
        {
          "output_type": "stream",
          "text": [
            " * sqlite:////content/gdrive/MyDrive/TP_SQL/livres1_db.db\n",
            "Done.\n"
          ],
          "name": "stdout"
        },
        {
          "output_type": "execute_result",
          "data": {
            "text/html": [
              "<table>\n",
              "    <thead>\n",
              "        <tr>\n",
              "            <th>IdLangue</th>\n",
              "            <th>Langue</th>\n",
              "        </tr>\n",
              "    </thead>\n",
              "    <tbody>\n",
              "    </tbody>\n",
              "</table>"
            ],
            "text/plain": [
              "[]"
            ]
          },
          "metadata": {
            "tags": []
          },
          "execution_count": 44
        }
      ]
    },
    {
      "cell_type": "markdown",
      "metadata": {
        "deletable": false,
        "editable": false,
        "nbgrader": {
          "cell_type": "markdown",
          "checksum": "8d82bd9c56dd9d14429e0ffc1d5e6b77",
          "grade": false,
          "grade_id": "cell-20d4b7cc5439a4fe",
          "locked": true,
          "schema_version": 3,
          "solution": false
        },
        "id": "Hdz1wVOfemi6"
      },
      "source": [
        "### Quelques explications :\n",
        "\n",
        "Pour commencer, dans jupyter lorsque nous voulons exécuter une commande **SQL** et pas une commande en langage python. \n",
        "\n",
        "Pour cela, nous inscrirons **en première ligne de cellule** la commande *magique* `%%sql`. \n",
        "\n",
        "N'oubliez jamais de commencer toutes vos cellules ainsi car sinon, la commande sera interprétée par *python* et non *SQL*.\n",
        "\n",
        "La première requête **SQL** que nous allons apprendre est la requête `CREATE TABLE`\n",
        "- on indique le nom de la table à créer\n",
        "- entre parenthèse on liste les *attributs* à mettre ainsi que leur *type*.\n",
        "- une requête se termine **toujours** par ;\n",
        "\n",
        "Nous avons deux types différents dans notre base de données :\n",
        "- le type TEXT pour tout ce qui est chaîne de caractères\n",
        "- le type INTEGER pour les entiers\n",
        "\n",
        "L'attribut **IdLangue** est la *clé primaire* de la table. C'est un entier qui commence à 1 et qui sera automatiquement incrémenté au fur à mesure que l'on insère des données dans la table. C'est en indiquant `PRIMARY KEY` après le type dans la déclaration de l'attribut **IdLangue** que *sqlite* se comporte ainsi."
      ]
    },
    {
      "cell_type": "markdown",
      "metadata": {
        "deletable": false,
        "editable": false,
        "nbgrader": {
          "cell_type": "markdown",
          "checksum": "d53eadd2bf962b91b6dfb781050b79e7",
          "grade": false,
          "grade_id": "cell-29801329779f4f15",
          "locked": true,
          "schema_version": 3,
          "solution": false
        },
        "id": "lDOkOYOaemi6"
      },
      "source": [
        "## Insérer des enregistrements dans la table\n",
        "\n",
        "Maintenant que nous avons une table vide, il nous faut la remplir avec les données sur les auteurs. Nous utiliserons pour cela la requête **INSERT**. Voici son utilisation :"
      ]
    },
    {
      "cell_type": "code",
      "metadata": {
        "deletable": false,
        "editable": false,
        "nbgrader": {
          "cell_type": "code",
          "checksum": "2e09d8eb35ce5c6d800820f4ee0cf48f",
          "grade": false,
          "grade_id": "cell-e21f4409fe9aadc0",
          "locked": true,
          "schema_version": 3,
          "solution": false
        },
        "id": "lGGQgl3Demi6",
        "colab": {
          "base_uri": "https://localhost:8080/"
        },
        "outputId": "c639024a-9b36-44c2-ee02-a5aedea3c6e9"
      },
      "source": [
        "%%sql\n",
        "INSERT INTO Langues \n",
        "    (Langue)\n",
        "VALUES\n",
        "    (\"Anglais\"),\n",
        "    (\"Français\");"
      ],
      "execution_count": 45,
      "outputs": [
        {
          "output_type": "stream",
          "text": [
            " * sqlite:////content/gdrive/MyDrive/TP_SQL/livres1_db.db\n",
            "2 rows affected.\n"
          ],
          "name": "stdout"
        },
        {
          "output_type": "execute_result",
          "data": {
            "text/plain": [
              "[]"
            ]
          },
          "metadata": {
            "tags": []
          },
          "execution_count": 45
        }
      ]
    },
    {
      "cell_type": "markdown",
      "metadata": {
        "deletable": false,
        "editable": false,
        "nbgrader": {
          "cell_type": "markdown",
          "checksum": "9a43c4cd33e5413e68dd112b347ca7fa",
          "grade": false,
          "grade_id": "cell-01b63250bc7b5d4a",
          "locked": true,
          "schema_version": 3,
          "solution": false
        },
        "id": "5eG-utlbemi6"
      },
      "source": [
        "### Quelques explications :\n",
        "\n",
        "La requête **INSERT** s'utilise ainsi :\n",
        "```\n",
        "INSERT INTO ##TABLE##\n",
        "    (## attributs dont on donne les valeurs##)\n",
        "VALUES\n",
        "    (## enregistrement 1 ##),\n",
        "    ...\n",
        "    (## enregistrement n ##);\n",
        "```\n",
        "\n",
        "On peut refaire une autre requête **INSERT** à la suite si on souhaite ajouter encore des données au bout de la table. \n",
        "\n",
        "Vous remarquez que l'on ne donne pas de valeur pour l'attribut **IdLangue**. C'est parce qu'on l'a déclaré en `PRIMARY KEY`. Il est donc automatiquement géré par sqlite. Nous verrons cela en lisant le contenu complet de la table.\n",
        "\n",
        "On est pas obligé de préciser tous les attributs. **IdLangue** est un exemple particulier, mais il est possible d'omettre d'autres attributs. Ils seront alors affectés d'une valeur nulle.\n",
        "\n",
        "A l'issue de la requête, sqlite nous informe que 2 lignes ont été créées."
      ]
    },
    {
      "cell_type": "markdown",
      "metadata": {
        "deletable": false,
        "editable": false,
        "nbgrader": {
          "cell_type": "markdown",
          "checksum": "13a272e33c8c1f0c4f6b3781873da0f9",
          "grade": false,
          "grade_id": "cell-86faa650596b82e0",
          "locked": true,
          "schema_version": 3,
          "solution": false
        },
        "id": "riIezQGvemi7"
      },
      "source": [
        "## Lire le contenu d'une table\n",
        "\n",
        "Nous allons à présent utiliser une requête **SELECT** afin de récupérer le contenu de la table. Ces requêtes peuvent être très sophistiquées comme on va le voir en fin de TP. Pour le moment, nous nous contenterons de la forme la plus simple :"
      ]
    },
    {
      "cell_type": "code",
      "metadata": {
        "deletable": false,
        "editable": false,
        "nbgrader": {
          "cell_type": "code",
          "checksum": "dd079d45222502ed71e93d80e5f70cf7",
          "grade": false,
          "grade_id": "cell-83bd3a93a2cdf04b",
          "locked": true,
          "schema_version": 3,
          "solution": false
        },
        "id": "KMqy2iBdemi7",
        "colab": {
          "base_uri": "https://localhost:8080/",
          "height": 118
        },
        "outputId": "d4d25fbf-cef2-44fa-9642-649db6aba0a0"
      },
      "source": [
        "%%sql\n",
        "\n",
        "SELECT * FROM Langues;"
      ],
      "execution_count": 46,
      "outputs": [
        {
          "output_type": "stream",
          "text": [
            " * sqlite:////content/gdrive/MyDrive/TP_SQL/livres1_db.db\n",
            "Done.\n"
          ],
          "name": "stdout"
        },
        {
          "output_type": "execute_result",
          "data": {
            "text/html": [
              "<table>\n",
              "    <thead>\n",
              "        <tr>\n",
              "            <th>IdLangue</th>\n",
              "            <th>Langue</th>\n",
              "        </tr>\n",
              "    </thead>\n",
              "    <tbody>\n",
              "        <tr>\n",
              "            <td>1</td>\n",
              "            <td>Anglais</td>\n",
              "        </tr>\n",
              "        <tr>\n",
              "            <td>2</td>\n",
              "            <td>Français</td>\n",
              "        </tr>\n",
              "    </tbody>\n",
              "</table>"
            ],
            "text/plain": [
              "[(1, 'Anglais'), (2, 'Français')]"
            ]
          },
          "metadata": {
            "tags": []
          },
          "execution_count": 46
        }
      ]
    },
    {
      "cell_type": "markdown",
      "metadata": {
        "deletable": false,
        "editable": false,
        "nbgrader": {
          "cell_type": "markdown",
          "checksum": "38340cd72e532062b558394ee734d587",
          "grade": false,
          "grade_id": "cell-41c695377db1a2fc",
          "locked": true,
          "schema_version": 3,
          "solution": false
        },
        "id": "0V1DKWfxemi7"
      },
      "source": [
        "Vous voyez donc appraître le contenu de la table. Vous constatez que la clé primaire **IdLangue** a bien été générée correctement.\n",
        "\n",
        "Il est possible de stocker le résultat de cette requête dans une variable pour l'exploiter plus facilement dans jupyter. Voici comment procéder en modifiant légèrement la première ligne :"
      ]
    },
    {
      "cell_type": "code",
      "metadata": {
        "deletable": false,
        "editable": false,
        "nbgrader": {
          "cell_type": "code",
          "checksum": "0a6ee97c4ac9f9007f306dfdb8f4b346",
          "grade": false,
          "grade_id": "cell-f237c83ff2656a96",
          "locked": true,
          "schema_version": 3,
          "solution": false
        },
        "id": "NzxUI6deemi7",
        "colab": {
          "base_uri": "https://localhost:8080/"
        },
        "outputId": "3a19d947-20f4-490e-f93e-9684d3e13697"
      },
      "source": [
        "resultat = %sql SELECT * FROM Langues;"
      ],
      "execution_count": 47,
      "outputs": [
        {
          "output_type": "stream",
          "text": [
            " * sqlite:////content/gdrive/MyDrive/TP_SQL/livres1_db.db\n",
            "Done.\n"
          ],
          "name": "stdout"
        }
      ]
    },
    {
      "cell_type": "markdown",
      "metadata": {
        "deletable": false,
        "editable": false,
        "nbgrader": {
          "cell_type": "markdown",
          "checksum": "012a1deb7bb8be3234095f6bd64cc233",
          "grade": false,
          "grade_id": "cell-f7f1c166af4f90e9",
          "locked": true,
          "schema_version": 3,
          "solution": false
        },
        "id": "iRoZBfVdemi7"
      },
      "source": [
        "Vous voyez au passage la syntaxe concise permettant de récupérer le résultat d'une requête dans une variable. \n",
        "\n",
        "Cette variable `résultat` est exploitable dans ce classeur, y compris par python !!"
      ]
    },
    {
      "cell_type": "code",
      "metadata": {
        "id": "OGLj6omremi8",
        "colab": {
          "base_uri": "https://localhost:8080/",
          "height": 82
        },
        "outputId": "a2e95172-6fe5-4a83-9d48-4907168ac443"
      },
      "source": [
        "resultat"
      ],
      "execution_count": 48,
      "outputs": [
        {
          "output_type": "execute_result",
          "data": {
            "text/html": [
              "<table>\n",
              "    <thead>\n",
              "        <tr>\n",
              "            <th>IdLangue</th>\n",
              "            <th>Langue</th>\n",
              "        </tr>\n",
              "    </thead>\n",
              "    <tbody>\n",
              "        <tr>\n",
              "            <td>1</td>\n",
              "            <td>Anglais</td>\n",
              "        </tr>\n",
              "        <tr>\n",
              "            <td>2</td>\n",
              "            <td>Français</td>\n",
              "        </tr>\n",
              "    </tbody>\n",
              "</table>"
            ],
            "text/plain": [
              "[(1, 'Anglais'), (2, 'Français')]"
            ]
          },
          "metadata": {
            "tags": []
          },
          "execution_count": 48
        }
      ]
    },
    {
      "cell_type": "code",
      "metadata": {
        "id": "fqvaK4w6emi8",
        "colab": {
          "base_uri": "https://localhost:8080/"
        },
        "outputId": "5d1d696e-d9b6-4398-cd64-d579ae892285"
      },
      "source": [
        "print(resultat)"
      ],
      "execution_count": 49,
      "outputs": [
        {
          "output_type": "stream",
          "text": [
            "+----------+----------+\n",
            "| IdLangue |  Langue  |\n",
            "+----------+----------+\n",
            "|    1     | Anglais  |\n",
            "|    2     | Français |\n",
            "+----------+----------+\n"
          ],
          "name": "stdout"
        }
      ]
    },
    {
      "cell_type": "code",
      "metadata": {
        "id": "IF59f0Fzemi8",
        "colab": {
          "base_uri": "https://localhost:8080/"
        },
        "outputId": "5127dbe9-b8b4-407c-8d06-c3139025cdce"
      },
      "source": [
        "resultat[0]"
      ],
      "execution_count": 50,
      "outputs": [
        {
          "output_type": "execute_result",
          "data": {
            "text/plain": [
              "(1, 'Anglais')"
            ]
          },
          "metadata": {
            "tags": []
          },
          "execution_count": 50
        }
      ]
    },
    {
      "cell_type": "markdown",
      "metadata": {
        "deletable": false,
        "editable": false,
        "nbgrader": {
          "cell_type": "markdown",
          "checksum": "b164c4f6f7aadde6681f2cc578b6f1cf",
          "grade": false,
          "grade_id": "cell-cc70d278076413c5",
          "locked": true,
          "schema_version": 3,
          "solution": false
        },
        "id": "ajDnJOYeemi8"
      },
      "source": [
        "On a donc ici le meilleur des deux mondes : des requêtes **SQL** et une base de données pour stocker efficacement les données, le langage python pour traiter ces données grâce à des algorithmes faciles à écrire."
      ]
    },
    {
      "cell_type": "markdown",
      "metadata": {
        "deletable": false,
        "editable": false,
        "nbgrader": {
          "cell_type": "markdown",
          "checksum": "5ec48c34fd7b2477647da212de79490b",
          "grade": false,
          "grade_id": "cell-73aa64b758698af0",
          "locked": true,
          "schema_version": 3,
          "solution": false,
          "task": false
        },
        "id": "08JzJGolemi8"
      },
      "source": [
        "## A vous de jouer\n",
        "\n",
        "Créez la table Auteurs afin que celle-ci reflète les informations suivantes :\n",
        "\n",
        "|   Nom    |    Prenom    | annee naissance |  langue  |\n",
        "|----------|--------------|-----------|----------|\n",
        "|  Orwell  |    George    |    1903   | Anglais  |\n",
        "| Herbert  |    Frank     |    1920   | Anglais  | \n",
        "|  Asimov  |    Isaac     |    1920   | Anglais  |\n",
        "|  Huxley  |    Aldous    |    1894   | Anglais  |  \n",
        "| Bradbury |     Ray      |    1920   | Anglais  | \n",
        "| K. Dick  |    Philip    |    1928   | Anglais  |  \n",
        "| Barjavel |     René     |    1911   | Français | \n",
        "|  Boulle  |    Pierre    |    1912   | Français |  \n",
        "| Van Vogt | Alfred Elton |    1912   | Anglais  | \n",
        "|  Verne   |    Jules     |    1828   | Français |  \n",
        "\n",
        "Pour cela, vous utiliserez la commande de CREATE suivante pour créer la table et vous adapterez les données à cette structure."
      ]
    },
    {
      "cell_type": "markdown",
      "metadata": {
        "id": "1MNRkPXvv9i8"
      },
      "source": [
        "Le DROP sert à supprimer la table s'il elle existait déjà."
      ]
    },
    {
      "cell_type": "code",
      "metadata": {
        "deletable": false,
        "editable": false,
        "nbgrader": {
          "cell_type": "code",
          "checksum": "fd707a29b215463f1b361b58ff49f8e9",
          "grade": false,
          "grade_id": "cell-39ce5b283f7d4825",
          "locked": true,
          "schema_version": 3,
          "solution": false,
          "task": false
        },
        "id": "xK2vS5M2tBJK",
        "colab": {
          "base_uri": "https://localhost:8080/"
        },
        "outputId": "1c658e88-1cdf-442d-c29a-b454e834df0a"
      },
      "source": [
        "%%sql \n",
        "\n",
        "DROP TABLE Auteurs;\n"
      ],
      "execution_count": 51,
      "outputs": [
        {
          "output_type": "stream",
          "text": [
            " * sqlite:////content/gdrive/MyDrive/TP_SQL/livres1_db.db\n",
            "Done.\n"
          ],
          "name": "stdout"
        },
        {
          "output_type": "execute_result",
          "data": {
            "text/plain": [
              "[]"
            ]
          },
          "metadata": {
            "tags": []
          },
          "execution_count": 51
        }
      ]
    },
    {
      "cell_type": "code",
      "metadata": {
        "deletable": false,
        "editable": false,
        "nbgrader": {
          "cell_type": "code",
          "checksum": "3b54666f72f91d709a3374a0310c83ff",
          "grade": false,
          "grade_id": "cell-ee0396e996089856",
          "locked": true,
          "schema_version": 3,
          "solution": false,
          "task": false
        },
        "id": "3-33ggYXemi8",
        "colab": {
          "base_uri": "https://localhost:8080/"
        },
        "outputId": "c9c133fc-aced-4904-ee03-2c468317ae1e"
      },
      "source": [
        "%%sql \n",
        "CREATE TABLE Auteurs (\n",
        "    IdAuteur        INTEGER  PRIMARY KEY,\n",
        "    Nom             TEXT,\n",
        "    Prenom          TEXT,\n",
        "    AnneeNaissance  INTEGER,\n",
        "    IdLangue        INTEGER,  \n",
        "    FOREIGN KEY(IdLangue) REFERENCES Langues(IdLangue)\n",
        ");"
      ],
      "execution_count": 52,
      "outputs": [
        {
          "output_type": "stream",
          "text": [
            " * sqlite:////content/gdrive/MyDrive/TP_SQL/livres1_db.db\n",
            "Done.\n"
          ],
          "name": "stdout"
        },
        {
          "output_type": "execute_result",
          "data": {
            "text/plain": [
              "[]"
            ]
          },
          "metadata": {
            "tags": []
          },
          "execution_count": 52
        }
      ]
    },
    {
      "cell_type": "markdown",
      "metadata": {
        "id": "ULgqYNJkemi8"
      },
      "source": [
        "Une nouveauté apparaît ici dans la création de la table : La table **Auteurs** possède une *clé étangère* : *IdLangue*. Cette clé est un entier.\n",
        "\n",
        "Remarquez la ligne `FOREIGN KEY(IdLangue) REFERENCES Langues(IdLangue)`. Celle-ci permet de déclarer une *contrainte* sur cette clé afin d'indiquer à SQLite que *IdLangue* est une clé étrangère. SQLite sera alors responsable de maintenir la cohérence entre les deux tables que l'on a ainsi reliée.\n",
        "\n",
        "Cette déclaration n'est pas obligatoire mais fortement conseillée."
      ]
    },
    {
      "cell_type": "code",
      "metadata": {
        "deletable": false,
        "nbgrader": {
          "cell_type": "code",
          "checksum": "d27157fae880b21956e2d8a6e3a35890",
          "grade": false,
          "grade_id": "cell-b18fd314917d7ddf",
          "locked": false,
          "schema_version": 3,
          "solution": true,
          "task": false
        },
        "id": "I-0uzFI7emi9",
        "colab": {
          "base_uri": "https://localhost:8080/"
        },
        "outputId": "d33a4926-df60-40e3-bbfb-2db925bd7f9e"
      },
      "source": [
        "%%sql\n",
        "INSERT INTO Auteurs \n",
        "    (Nom,      \n",
        "    Prenom,   \n",
        "    AnneeNaissance,\n",
        "    IdLangue)\n",
        "VALUES\n",
        "(\"Orwell\",\"George\",\"1903\",\"1\"),\n",
        "(\"Herbert\",\"Frank\",\"1920\",\"1\"),\n",
        "(\"Asimov\",\"Isaac\",\"1920\",\"1\"),\n",
        "(\"Huxley\",\"Aldous\",\"1894\",\"1\"),\n",
        "(\"Bradbury\",\"Ray\",\"1920\",\"1\"),\n",
        "(\"K. Dick\",\"Philip\",\"1928\",\"1\"),\n",
        "(\"Barjavel\",\"René\",\"1911\",\"2\"),\n",
        "(\"Boulle\",\"Pierre\",\"1912\",\"2\"),\n",
        "(\"Van Vogt\",\"Alfred Elton\",\"1912\",\"1\"),\n",
        "(\"Verne\",\"Jules\",\"1828\",\"2\");"
      ],
      "execution_count": 53,
      "outputs": [
        {
          "output_type": "stream",
          "text": [
            " * sqlite:////content/gdrive/MyDrive/TP_SQL/livres1_db.db\n",
            "10 rows affected.\n"
          ],
          "name": "stdout"
        },
        {
          "output_type": "execute_result",
          "data": {
            "text/plain": [
              "[]"
            ]
          },
          "metadata": {
            "tags": []
          },
          "execution_count": 53
        }
      ]
    },
    {
      "cell_type": "code",
      "metadata": {
        "id": "-y7XqxWNyINL",
        "colab": {
          "base_uri": "https://localhost:8080/",
          "height": 285
        },
        "outputId": "7fe95f4a-0661-4d8f-bb8e-f4b2617a0e4b"
      },
      "source": [
        "%%sql\n",
        "SELECT Nom, Prenom, AnneeNaissance, IdLangue FROM Auteurs;"
      ],
      "execution_count": 54,
      "outputs": [
        {
          "output_type": "stream",
          "text": [
            " * sqlite:////content/gdrive/MyDrive/TP_SQL/livres1_db.db\n",
            "Done.\n"
          ],
          "name": "stdout"
        },
        {
          "output_type": "execute_result",
          "data": {
            "text/html": [
              "<table>\n",
              "    <thead>\n",
              "        <tr>\n",
              "            <th>Nom</th>\n",
              "            <th>Prenom</th>\n",
              "            <th>AnneeNaissance</th>\n",
              "            <th>IdLangue</th>\n",
              "        </tr>\n",
              "    </thead>\n",
              "    <tbody>\n",
              "        <tr>\n",
              "            <td>Orwell</td>\n",
              "            <td>George</td>\n",
              "            <td>1903</td>\n",
              "            <td>1</td>\n",
              "        </tr>\n",
              "        <tr>\n",
              "            <td>Herbert</td>\n",
              "            <td>Frank</td>\n",
              "            <td>1920</td>\n",
              "            <td>1</td>\n",
              "        </tr>\n",
              "        <tr>\n",
              "            <td>Asimov</td>\n",
              "            <td>Isaac</td>\n",
              "            <td>1920</td>\n",
              "            <td>1</td>\n",
              "        </tr>\n",
              "        <tr>\n",
              "            <td>Huxley</td>\n",
              "            <td>Aldous</td>\n",
              "            <td>1894</td>\n",
              "            <td>1</td>\n",
              "        </tr>\n",
              "        <tr>\n",
              "            <td>Bradbury</td>\n",
              "            <td>Ray</td>\n",
              "            <td>1920</td>\n",
              "            <td>1</td>\n",
              "        </tr>\n",
              "        <tr>\n",
              "            <td>K. Dick</td>\n",
              "            <td>Philip</td>\n",
              "            <td>1928</td>\n",
              "            <td>1</td>\n",
              "        </tr>\n",
              "        <tr>\n",
              "            <td>Barjavel</td>\n",
              "            <td>René</td>\n",
              "            <td>1911</td>\n",
              "            <td>2</td>\n",
              "        </tr>\n",
              "        <tr>\n",
              "            <td>Boulle</td>\n",
              "            <td>Pierre</td>\n",
              "            <td>1912</td>\n",
              "            <td>2</td>\n",
              "        </tr>\n",
              "        <tr>\n",
              "            <td>Van Vogt</td>\n",
              "            <td>Alfred Elton</td>\n",
              "            <td>1912</td>\n",
              "            <td>1</td>\n",
              "        </tr>\n",
              "        <tr>\n",
              "            <td>Verne</td>\n",
              "            <td>Jules</td>\n",
              "            <td>1828</td>\n",
              "            <td>2</td>\n",
              "        </tr>\n",
              "    </tbody>\n",
              "</table>"
            ],
            "text/plain": [
              "[('Orwell', 'George', 1903, 1),\n",
              " ('Herbert', 'Frank', 1920, 1),\n",
              " ('Asimov', 'Isaac', 1920, 1),\n",
              " ('Huxley', 'Aldous', 1894, 1),\n",
              " ('Bradbury', 'Ray', 1920, 1),\n",
              " ('K. Dick', 'Philip', 1928, 1),\n",
              " ('Barjavel', 'René', 1911, 2),\n",
              " ('Boulle', 'Pierre', 1912, 2),\n",
              " ('Van Vogt', 'Alfred Elton', 1912, 1),\n",
              " ('Verne', 'Jules', 1828, 2)]"
            ]
          },
          "metadata": {
            "tags": []
          },
          "execution_count": 54
        }
      ]
    },
    {
      "cell_type": "code",
      "metadata": {
        "colab": {
          "base_uri": "https://localhost:8080/",
          "height": 285
        },
        "id": "xprzvbZ9ppzj",
        "outputId": "486a6a41-779f-4402-aab8-840f51f93360"
      },
      "source": [
        "resultat = %%sql SELECT * FROM Auteurs;\n",
        "resultat"
      ],
      "execution_count": 68,
      "outputs": [
        {
          "output_type": "stream",
          "text": [
            " * sqlite:////content/gdrive/MyDrive/TP_SQL/livres1_db.db\n",
            "Done.\n"
          ],
          "name": "stdout"
        },
        {
          "output_type": "execute_result",
          "data": {
            "text/html": [
              "<table>\n",
              "    <thead>\n",
              "        <tr>\n",
              "            <th>IdAuteur</th>\n",
              "            <th>Nom</th>\n",
              "            <th>Prenom</th>\n",
              "            <th>AnneeNaissance</th>\n",
              "            <th>IdLangue</th>\n",
              "        </tr>\n",
              "    </thead>\n",
              "    <tbody>\n",
              "        <tr>\n",
              "            <td>1</td>\n",
              "            <td>Orwell</td>\n",
              "            <td>George</td>\n",
              "            <td>1903</td>\n",
              "            <td>1</td>\n",
              "        </tr>\n",
              "        <tr>\n",
              "            <td>2</td>\n",
              "            <td>Herbert</td>\n",
              "            <td>Frank</td>\n",
              "            <td>1920</td>\n",
              "            <td>1</td>\n",
              "        </tr>\n",
              "        <tr>\n",
              "            <td>3</td>\n",
              "            <td>Asimov</td>\n",
              "            <td>Isaac</td>\n",
              "            <td>1920</td>\n",
              "            <td>1</td>\n",
              "        </tr>\n",
              "        <tr>\n",
              "            <td>4</td>\n",
              "            <td>Huxley</td>\n",
              "            <td>Aldous</td>\n",
              "            <td>1894</td>\n",
              "            <td>1</td>\n",
              "        </tr>\n",
              "        <tr>\n",
              "            <td>5</td>\n",
              "            <td>Bradbury</td>\n",
              "            <td>Ray</td>\n",
              "            <td>1920</td>\n",
              "            <td>1</td>\n",
              "        </tr>\n",
              "        <tr>\n",
              "            <td>6</td>\n",
              "            <td>K. Dick</td>\n",
              "            <td>Philip</td>\n",
              "            <td>1928</td>\n",
              "            <td>1</td>\n",
              "        </tr>\n",
              "        <tr>\n",
              "            <td>7</td>\n",
              "            <td>Barjavel</td>\n",
              "            <td>René</td>\n",
              "            <td>1911</td>\n",
              "            <td>2</td>\n",
              "        </tr>\n",
              "        <tr>\n",
              "            <td>8</td>\n",
              "            <td>Boulle</td>\n",
              "            <td>Pierre</td>\n",
              "            <td>1912</td>\n",
              "            <td>2</td>\n",
              "        </tr>\n",
              "        <tr>\n",
              "            <td>9</td>\n",
              "            <td>Van Vogt</td>\n",
              "            <td>Alfred Elton</td>\n",
              "            <td>1912</td>\n",
              "            <td>1</td>\n",
              "        </tr>\n",
              "        <tr>\n",
              "            <td>10</td>\n",
              "            <td>Verne</td>\n",
              "            <td>Jules</td>\n",
              "            <td>1828</td>\n",
              "            <td>2</td>\n",
              "        </tr>\n",
              "    </tbody>\n",
              "</table>"
            ],
            "text/plain": [
              "[(1, 'Orwell', 'George', 1903, 1),\n",
              " (2, 'Herbert', 'Frank', 1920, 1),\n",
              " (3, 'Asimov', 'Isaac', 1920, 1),\n",
              " (4, 'Huxley', 'Aldous', 1894, 1),\n",
              " (5, 'Bradbury', 'Ray', 1920, 1),\n",
              " (6, 'K. Dick', 'Philip', 1928, 1),\n",
              " (7, 'Barjavel', 'René', 1911, 2),\n",
              " (8, 'Boulle', 'Pierre', 1912, 2),\n",
              " (9, 'Van Vogt', 'Alfred Elton', 1912, 1),\n",
              " (10, 'Verne', 'Jules', 1828, 2)]"
            ]
          },
          "metadata": {
            "tags": []
          },
          "execution_count": 68
        }
      ]
    },
    {
      "cell_type": "code",
      "metadata": {
        "id": "YJEGnY-qphYP"
      },
      "source": [
        "assert (1, \"Orwell\", \"George\", 1903, 1) in resultat"
      ],
      "execution_count": 75,
      "outputs": []
    },
    {
      "cell_type": "markdown",
      "metadata": {
        "deletable": false,
        "editable": false,
        "nbgrader": {
          "cell_type": "markdown",
          "checksum": "7ee8c8df7d5d97eb37ceabc3bdb11397",
          "grade": false,
          "grade_id": "cell-f48b620f9d01140f",
          "locked": true,
          "schema_version": 3,
          "solution": false
        },
        "id": "-oZik6Yfemi9"
      },
      "source": [
        "## A vous de jouer\n",
        "\n",
        "Notre base n'est pas encore complète : il nous reste à créer les tables **Livres** et **Themes** qui doivent refléter le contenu suivant :\n",
        "\n",
        "|           Titre           |   NomAuteur    |    PrenomAuteur    | AnneeNaissance |  Langue  | AnneePubli | Themes |\n",
        "|---------------------------|----------|--------------|-----------|----------|-----------|------|\n",
        "|            1984           |  Orwell  |    George    |    1903   | Anglais  |    1949   |  Totalitarisme, science-fiction, anticipation, Dystopie  |\n",
        "|            Dune           | Herbert  |    Frank     |    1920   | Anglais  |    1965   | science-fiction, anticipation   |\n",
        "|         Fondation         |  Asimov  |    Isaac     |    1920   | Anglais  |    1951   |  science-fiction, Economie  |\n",
        "|   Le meilleur des mondes  |  Huxley  |    Aldous    |    1894   | Anglais  |    1931   |  Totalitarisme, science fiction, dystopie   |\n",
        "|       Fahrenheit 451      | Bradbury |     Ray      |    1920   | Anglais  |    1953   |   \tscience-fiction, Dystopie  |\n",
        "|            Ubik           | K. Dick  |    Philip    |    1928   | Anglais  |    1969   |  \tscience-fiction, anticipation   |\n",
        "|   Chroniques martiennes   | Bradbury |     Ray      |    1920   | Anglais  |    1950   |   \tscience-fiction, anticipation   |\n",
        "|     La nuit des temps     | Barjavel |     René     |    1911   | Français |    1968   |   \tscience-fiction, tragédie   |\n",
        "|        Blade Runner       | K. Dick  |    Philip    |    1928   | Anglais  |    1968   |   \tIntelligence artificielle, science fiction  |\n",
        "|         Les Robots        |  Asimov  |    Isaac     |    1920   | Anglais  |    1950   |  science fiction, Intelligence artificielle   |\n",
        "|   La Planète des singes   |  Boulle  |    Pierre    |    1912   | Français |    1963   |   \tscience fiction, Dystopie   |\n",
        "|           Ravage          | Barjavel |     René     |    1911   | Français |    1943   |  Science-Fiction, anticipation   |\n",
        "| Le Maître du Haut Château | K. Dick  |    Philip    |    1928   | Anglais  |    1962   |   \tDystopie, Uchronie  |\n",
        "|       Le monde des A      | Van Vogt | Alfred Elton |    1912   | Anglais  |    1945   |   \tscience fiction, IA   |\n",
        "|    La Fin de l’éternité   |  Asimov  |    Isaac     |    1920   | Anglais  |    1955   |  science-fiction, voyage dans le temps  |\n",
        "|   De la Terre à la Lune   |  Verne   |    Jules     |    1828   | Français |    1865   |   \tScience-Fiction, aventure  |\n",
        "\n",
        "### La table LIVRES\n",
        "\n",
        "La table **LIVRES** devra avoir la structure décrite dans l'extrait suivant :\n",
        "\n",
        "| IdLivre |           Titre           | IdAuteur | AnneePubli |\n",
        "|----|---------------------------|-----------|-----------|\n",
        "| ...  |            ...          |     ...     |    ...   |\n",
        "| 8  |     La nuit des temps     |     7     |    1968   |\n",
        "| ...  |            ...          |     ...     |    ...   |\n",
        "\n",
        "- l'année de publication est de type **INTEGER**\n",
        "- **IdLivre** désigne bien sûr la clé primaire\n",
        "- **IdAuteur** est une *clé externe* faisant référence à l'auteur.\n",
        "- dans l'extrait, la clé **IdAuteur** vaut 7. L'auteur de *La nuit des temps* est donc *Barjavel*\n",
        "- on ne renseigne pas la langue ou l'année de naissance de l'auteur car ces informations sont déjà présentes dans la table **Auteurs**.\n",
        "- On traitera la problématique des thèmes plus tard...\n",
        "\n",
        "Dans la cellule ci-dessous, saisissez la requête pour créer la table **Livres**\n"
      ]
    },
    {
      "cell_type": "code",
      "metadata": {
        "colab": {
          "base_uri": "https://localhost:8080/"
        },
        "id": "Tmjl-CiSxslT",
        "outputId": "74c9858b-47d1-4cff-e6bc-1769ab0d26cc"
      },
      "source": [
        "%%sql \n",
        "\n",
        "DROP TABLE Livres;\n"
      ],
      "execution_count": 76,
      "outputs": [
        {
          "output_type": "stream",
          "text": [
            " * sqlite:////content/gdrive/MyDrive/TP_SQL/livres1_db.db\n",
            "Done.\n"
          ],
          "name": "stdout"
        },
        {
          "output_type": "execute_result",
          "data": {
            "text/plain": [
              "[]"
            ]
          },
          "metadata": {
            "tags": []
          },
          "execution_count": 76
        }
      ]
    },
    {
      "cell_type": "code",
      "metadata": {
        "deletable": false,
        "nbgrader": {
          "cell_type": "code",
          "checksum": "a9671cc6c3eff1e271ab8033345b2c1f",
          "grade": false,
          "grade_id": "cell-cb6e3a0ab598131d",
          "locked": false,
          "schema_version": 3,
          "solution": true
        },
        "id": "FbAUuFrLemi9",
        "colab": {
          "base_uri": "https://localhost:8080/"
        },
        "outputId": "2f7392c6-dab0-46f1-e3bb-b549d16bc38c"
      },
      "source": [
        "%%sql \n",
        "CREATE TABLE Livres (\n",
        "    IdLivre    INTEGER  PRIMARY KEY,\n",
        "    Titre      TEXT,\n",
        "    IdAuteur   INTEGER,\n",
        "    AnneePubli INTEGER,\n",
        "    IdLangue   INTEGER,  \n",
        "    Themes     ARRAY,\n",
        "    FOREIGN KEY(IdAuteur) REFERENCES Auteurs(IdAuteur),\n",
        "    FOREIGN KEY(IdLangue) REFERENCES Langues(IdLangue)\n",
        ");"
      ],
      "execution_count": 77,
      "outputs": [
        {
          "output_type": "stream",
          "text": [
            " * sqlite:////content/gdrive/MyDrive/TP_SQL/livres1_db.db\n",
            "Done.\n"
          ],
          "name": "stdout"
        },
        {
          "output_type": "execute_result",
          "data": {
            "text/plain": [
              "[]"
            ]
          },
          "metadata": {
            "tags": []
          },
          "execution_count": 77
        }
      ]
    },
    {
      "cell_type": "markdown",
      "metadata": {
        "deletable": false,
        "editable": false,
        "nbgrader": {
          "cell_type": "markdown",
          "checksum": "ace01b4ae1b5a0a683103aacf4369fc9",
          "grade": false,
          "grade_id": "cell-4c791e843c936517",
          "locked": true,
          "schema_version": 3,
          "solution": false,
          "task": false
        },
        "id": "uyuUpUEhemi9"
      },
      "source": [
        "A présent, saisissez les données à l'intérieur de la table."
      ]
    },
    {
      "cell_type": "code",
      "metadata": {
        "deletable": false,
        "nbgrader": {
          "cell_type": "code",
          "checksum": "ca56dcf3bc9ba009248de78993356da1",
          "grade": false,
          "grade_id": "cell-4255de3f9026e4bc",
          "locked": false,
          "schema_version": 3,
          "solution": true,
          "task": false
        },
        "id": "pp2YASFbemi-",
        "colab": {
          "base_uri": "https://localhost:8080/"
        },
        "outputId": "8d50c4e4-ebcd-4ec0-b343-dd9302115fc9"
      },
      "source": [
        "%%sql\n",
        "INSERT INTO Livres \n",
        "    (Titre,      \n",
        "    IdAuteur,   \n",
        "    IdLangue,\n",
        "    AnneePubli,\n",
        "    Themes)\n",
        "VALUES\n",
        "(\"1984\",\"1\",\"1\",\"1949\",\"Totalitarisme, science-fiction, anticipation, Dystopie\"),\n",
        "(\"Dune\",\"2\",\"1\",\"1965\",\"science-fiction, anticipation\"),\n",
        "(\"Fondation\",\"3\",\"1\",\"1951\",\"science-fiction, Economie\"),\n",
        "(\"Le meilleur des mondes\",\"4\",\"1\",\"1931\",\"Totalitarisme, science fiction, dystopie\"),\n",
        "(\"Fahrenheit 451\",\"5\",\"1\",\"1953\",\"science-fiction, Dystopie\"),\n",
        "(\"Ubik\",\"6\",\"1\",\"1969\",\"science-fiction, anticipation\"),\n",
        "(\"Chroniques martiennes\",\"5\",\"1\",\"1950\",\"science-fiction, anticipation\"),\n",
        "(\"La nuit des temps\",\"7\",\"2\",\"1968\",\"science-fiction, tragédie\"),\n",
        "(\"Blade Runner\",\"6\",\"1\",\"1968\",\"Intelligence artificielle, science fiction\"),\n",
        "(\"Les Robots\",\"3\",\"1\",\"1950\",\"science fiction, Intelligence artificielle\"),\n",
        "(\"La Planète des singes\",\"8\",\"2\",\"1963\",\"science fiction, Dystopie\"),\n",
        "(\"Ravage\",\"7\",\"2\",\"1943\",\"Science-Fiction, anticipation\"),\n",
        "(\"Le Maître du Haut Château\",\"6\",\"1\",\"1962\",\"Dystopie, Uchronie\"),\n",
        "(\"Le monde des A\",\"9\",\"1\",\"1945\",\"science fiction, IA\"),\n",
        "(\"La Fin de l’éternité\",\"3\",\"1\",\"1955\",\"science-fiction, voyage dans le temps\"),\n",
        "(\"De la Terre à la Lune\",\"10\",\"2\",\"1865\",\"Science-Fiction, aventure\")\n",
        ";"
      ],
      "execution_count": 78,
      "outputs": [
        {
          "output_type": "stream",
          "text": [
            " * sqlite:////content/gdrive/MyDrive/TP_SQL/livres1_db.db\n",
            "16 rows affected.\n"
          ],
          "name": "stdout"
        },
        {
          "output_type": "execute_result",
          "data": {
            "text/plain": [
              "[]"
            ]
          },
          "metadata": {
            "tags": []
          },
          "execution_count": 78
        }
      ]
    },
    {
      "cell_type": "markdown",
      "metadata": {
        "deletable": false,
        "editable": false,
        "nbgrader": {
          "cell_type": "markdown",
          "checksum": "544b30b7602b8edcec60d709c69bbdae",
          "grade": false,
          "grade_id": "cell-16f0fe25a834d091",
          "locked": true,
          "schema_version": 3,
          "solution": false
        },
        "id": "oco0pj5yemi-"
      },
      "source": [
        "Vérifiez votre travail en listant tous les enregistrements de la table **LIVRES** dans la variable `resultat`"
      ]
    },
    {
      "cell_type": "code",
      "metadata": {
        "deletable": false,
        "nbgrader": {
          "cell_type": "code",
          "checksum": "6086e214b05330fd4406fe8e588aaba2",
          "grade": false,
          "grade_id": "cell-1d7d786452feb004",
          "locked": false,
          "schema_version": 3,
          "solution": true
        },
        "id": "G3TcBh7hemi-",
        "colab": {
          "base_uri": "https://localhost:8080/"
        },
        "outputId": "78422fe2-6a2e-4e13-de15-50a9ca80a8ff"
      },
      "source": [
        "resultat = %sql SELECT * FROM Livres;\n",
        "print(resultat)"
      ],
      "execution_count": 81,
      "outputs": [
        {
          "output_type": "stream",
          "text": [
            " * sqlite:////content/gdrive/MyDrive/TP_SQL/livres1_db.db\n",
            "Done.\n",
            "+---------+---------------------------+----------+------------+----------+--------------------------------------------------------+\n",
            "| IdLivre |           Titre           | IdAuteur | AnneePubli | IdLangue |                         Themes                         |\n",
            "+---------+---------------------------+----------+------------+----------+--------------------------------------------------------+\n",
            "|    1    |            1984           |    1     |    1949    |    1     | Totalitarisme, science-fiction, anticipation, Dystopie |\n",
            "|    2    |            Dune           |    2     |    1965    |    1     |             science-fiction, anticipation              |\n",
            "|    3    |         Fondation         |    3     |    1951    |    1     |               science-fiction, Economie                |\n",
            "|    4    |   Le meilleur des mondes  |    4     |    1931    |    1     |        Totalitarisme, science fiction, dystopie        |\n",
            "|    5    |       Fahrenheit 451      |    5     |    1953    |    1     |               science-fiction, Dystopie                |\n",
            "|    6    |            Ubik           |    6     |    1969    |    1     |             science-fiction, anticipation              |\n",
            "|    7    |   Chroniques martiennes   |    5     |    1950    |    1     |             science-fiction, anticipation              |\n",
            "|    8    |     La nuit des temps     |    7     |    1968    |    2     |               science-fiction, tragédie                |\n",
            "|    9    |        Blade Runner       |    6     |    1968    |    1     |       Intelligence artificielle, science fiction       |\n",
            "|    10   |         Les Robots        |    3     |    1950    |    1     |       science fiction, Intelligence artificielle       |\n",
            "|    11   |   La Planète des singes   |    8     |    1963    |    2     |               science fiction, Dystopie                |\n",
            "|    12   |           Ravage          |    7     |    1943    |    2     |             Science-Fiction, anticipation              |\n",
            "|    13   | Le Maître du Haut Château |    6     |    1962    |    1     |                   Dystopie, Uchronie                   |\n",
            "|    14   |       Le monde des A      |    9     |    1945    |    1     |                  science fiction, IA                   |\n",
            "|    15   |    La Fin de l’éternité   |    3     |    1955    |    1     |         science-fiction, voyage dans le temps          |\n",
            "|    16   |   De la Terre à la Lune   |    10    |    1865    |    2     |               Science-Fiction, aventure                |\n",
            "+---------+---------------------------+----------+------------+----------+--------------------------------------------------------+\n"
          ],
          "name": "stdout"
        }
      ]
    },
    {
      "cell_type": "code",
      "metadata": {
        "deletable": false,
        "editable": false,
        "nbgrader": {
          "cell_type": "code",
          "checksum": "51e933a7d36f9535376f2176e85b59a4",
          "grade": true,
          "grade_id": "cell-bcf2fb5cae26d98e",
          "locked": true,
          "points": 1,
          "schema_version": 3,
          "solution": false
        },
        "id": "WsOJ114hemi-"
      },
      "source": [
        "assert (1, \"1984\", 1, 1949, 1, \"Totalitarisme, science-fiction, anticipation, Dystopie\") in resultat"
      ],
      "execution_count": 83,
      "outputs": []
    },
    {
      "cell_type": "markdown",
      "metadata": {
        "deletable": false,
        "editable": false,
        "nbgrader": {
          "cell_type": "markdown",
          "checksum": "3c55700fb847b81b0687b5ba84fdd295",
          "grade": false,
          "grade_id": "cell-1bfbd2a02c2a73e6",
          "locked": true,
          "schema_version": 3,
          "solution": false
        },
        "id": "VBEcCjZSemi-"
      },
      "source": [
        "### La table Themes\n",
        "\n",
        "Traitons à présent la problématique des Thèmes. La table Themes devra avoir la structure décrite dans l'extrait suivant :\n",
        "\n",
        "| IdTheme | Intitule |\n",
        "|----|----------|\n",
        "| 1 |    Science-fiction     |\n",
        "| ...  |   ...     |\n",
        "\n",
        "- **IdTheme** désigne bien sûr la clé primaire\n",
        "- **Intitule** est un champ texte contenant l'intitulé du thème tel qu'il apparaît dans le tableau global.\n",
        "\n",
        "Dans la cellule ci-dessous, vous saisirez donc 2 requêtes :\n",
        "- Une pour créer la table Themes\n",
        "- Une pour insérer les données dans la table."
      ]
    },
    {
      "cell_type": "code",
      "metadata": {
        "colab": {
          "base_uri": "https://localhost:8080/"
        },
        "id": "vwZLdTVB__Jv",
        "outputId": "2349851b-92b3-4d0a-983c-313e116a4ada"
      },
      "source": [
        "%%sql \n",
        "\n",
        "DROP TABLE Themes;"
      ],
      "execution_count": 84,
      "outputs": [
        {
          "output_type": "stream",
          "text": [
            " * sqlite:////content/gdrive/MyDrive/TP_SQL/livres1_db.db\n",
            "Done.\n"
          ],
          "name": "stdout"
        },
        {
          "output_type": "execute_result",
          "data": {
            "text/plain": [
              "[]"
            ]
          },
          "metadata": {
            "tags": []
          },
          "execution_count": 84
        }
      ]
    },
    {
      "cell_type": "code",
      "metadata": {
        "deletable": false,
        "nbgrader": {
          "cell_type": "code",
          "checksum": "95f60ae911038ca5839e1012f6139ce8",
          "grade": false,
          "grade_id": "cell-46cc53689e60030a",
          "locked": false,
          "schema_version": 3,
          "solution": true
        },
        "id": "F2yvKvFLemi-",
        "colab": {
          "base_uri": "https://localhost:8080/"
        },
        "outputId": "28f5b7b7-fdd6-463d-d2d7-8ce61e68a8db"
      },
      "source": [
        "%%sql \n",
        "CREATE TABLE Themes (\n",
        "    IdTheme        INTEGER  PRIMARY KEY,\n",
        "    Intitule       STRING\n",
        ");"
      ],
      "execution_count": 85,
      "outputs": [
        {
          "output_type": "stream",
          "text": [
            " * sqlite:////content/gdrive/MyDrive/TP_SQL/livres1_db.db\n",
            "Done.\n"
          ],
          "name": "stdout"
        },
        {
          "output_type": "execute_result",
          "data": {
            "text/plain": [
              "[]"
            ]
          },
          "metadata": {
            "tags": []
          },
          "execution_count": 85
        }
      ]
    },
    {
      "cell_type": "code",
      "metadata": {
        "colab": {
          "base_uri": "https://localhost:8080/"
        },
        "id": "e_0x3HXUBYbb",
        "outputId": "7802e7ad-615b-4b39-9f5d-1c7d6fdbf53b"
      },
      "source": [
        "%%sql\n",
        "INSERT INTO Themes \n",
        "    (Intitule)\n",
        "VALUES\n",
        "(\"science-fiction\"),\n",
        "(\"Totalitarisme\"),\n",
        "(\"anticipation\"),\n",
        "(\"dystopie\"),\n",
        "(\"économie\"),\n",
        "(\"tragédie\"),\n",
        "(\"intelligence artificielle\"),\n",
        "(\"uchronie\"),\n",
        "(\"voyage dans le temps\"),\n",
        "(\"aventure\")\n",
        ";"
      ],
      "execution_count": 86,
      "outputs": [
        {
          "output_type": "stream",
          "text": [
            " * sqlite:////content/gdrive/MyDrive/TP_SQL/livres1_db.db\n",
            "10 rows affected.\n"
          ],
          "name": "stdout"
        },
        {
          "output_type": "execute_result",
          "data": {
            "text/plain": [
              "[]"
            ]
          },
          "metadata": {
            "tags": []
          },
          "execution_count": 86
        }
      ]
    },
    {
      "cell_type": "markdown",
      "metadata": {
        "deletable": false,
        "editable": false,
        "nbgrader": {
          "cell_type": "markdown",
          "checksum": "8649fa0556d810f75a96648aaf460d8b",
          "grade": false,
          "grade_id": "cell-6ed462a3bc3f7cf1",
          "locked": true,
          "schema_version": 3,
          "solution": false
        },
        "id": "ryr-HLXBemi-"
      },
      "source": [
        "Vérifiez votre travail en lisant tous les enregistrements de la table **Themes** dans la variable `resultat`"
      ]
    },
    {
      "cell_type": "code",
      "metadata": {
        "deletable": false,
        "nbgrader": {
          "cell_type": "code",
          "checksum": "1ccf1b78c798f69caed489c03c33e61c",
          "grade": false,
          "grade_id": "cell-cc2f33781006ca1b",
          "locked": false,
          "schema_version": 3,
          "solution": true
        },
        "id": "N6jYkzRDemi-",
        "colab": {
          "base_uri": "https://localhost:8080/"
        },
        "outputId": "79b244c0-1c59-4dec-8a28-6e41f8508c9b"
      },
      "source": [
        "resultat = %sql SELECT * FROM Themes;\n",
        "print(resultat)"
      ],
      "execution_count": 87,
      "outputs": [
        {
          "output_type": "stream",
          "text": [
            " * sqlite:////content/gdrive/MyDrive/TP_SQL/livres1_db.db\n",
            "Done.\n",
            "+---------+---------------------------+\n",
            "| IdTheme |          Intitule         |\n",
            "+---------+---------------------------+\n",
            "|    1    |      science-fiction      |\n",
            "|    2    |       Totalitarisme       |\n",
            "|    3    |        anticipation       |\n",
            "|    4    |          dystopie         |\n",
            "|    5    |          économie         |\n",
            "|    6    |          tragédie         |\n",
            "|    7    | intelligence artificielle |\n",
            "|    8    |          uchronie         |\n",
            "|    9    |    voyage dans le temps   |\n",
            "|    10   |          aventure         |\n",
            "+---------+---------------------------+\n"
          ],
          "name": "stdout"
        }
      ]
    },
    {
      "cell_type": "code",
      "metadata": {
        "deletable": false,
        "editable": false,
        "nbgrader": {
          "cell_type": "code",
          "checksum": "a7660b7df6a87065076a58f0c266bd06",
          "grade": true,
          "grade_id": "cell-8676060641ad67a1",
          "locked": true,
          "points": 1,
          "schema_version": 3,
          "solution": false
        },
        "id": "HTNEcre-emi_"
      },
      "source": [
        "assert (1, \"science-fiction\") in resultat"
      ],
      "execution_count": 89,
      "outputs": []
    },
    {
      "cell_type": "markdown",
      "metadata": {
        "deletable": false,
        "editable": false,
        "nbgrader": {
          "cell_type": "markdown",
          "checksum": "c8f90ff54ecebfbf6fd2f70a80da885a",
          "grade": false,
          "grade_id": "cell-c9f2379a7a570cf1",
          "locked": true,
          "schema_version": 3,
          "solution": false,
          "task": false
        },
        "id": "4TVB_ji1emi_"
      },
      "source": [
        "### Une table manquante !\n",
        "\n",
        "La saisie de notre base de donnée est incomplète ! Nous avons en effet saisi tous les auteurs, tous les livres, toutes les langues, tous les thèmes et pourtant il manque une information. Laquelle ?\n",
        "\n",
        "Quelle solution envisager pour saisir cette information ?"
      ]
    },
    {
      "cell_type": "markdown",
      "metadata": {
        "deletable": false,
        "editable": false,
        "nbgrader": {
          "cell_type": "markdown",
          "checksum": "35920ca28e0c043b088f7933c2bc4562",
          "grade": false,
          "grade_id": "cell-49ca5f4f9daea1e2",
          "locked": true,
          "schema_version": 3,
          "solution": false,
          "task": false
        },
        "id": "2v7jyovMemi_"
      },
      "source": [
        "Créer une table **RelationsLivreTheme** mettant en relation les livres et les thèmes associés. Saisir le contenu de cette table."
      ]
    },
    {
      "cell_type": "code",
      "metadata": {
        "colab": {
          "base_uri": "https://localhost:8080/"
        },
        "id": "CZnKdHilq404",
        "outputId": "e80719de-3d0b-4211-a2e5-a8e977c5b937"
      },
      "source": [
        "%%sql \n",
        "\n",
        "DROP TABLE RelationsLivreTheme;"
      ],
      "execution_count": 97,
      "outputs": [
        {
          "output_type": "stream",
          "text": [
            " * sqlite:////content/gdrive/MyDrive/TP_SQL/livres1_db.db\n",
            "(sqlite3.OperationalError) no such table: RelationsLivreTheme\n",
            "[SQL: DROP TABLE RelationsLivreTheme;]\n",
            "(Background on this error at: http://sqlalche.me/e/13/e3q8)\n"
          ],
          "name": "stdout"
        }
      ]
    },
    {
      "cell_type": "code",
      "metadata": {
        "deletable": false,
        "nbgrader": {
          "cell_type": "code",
          "checksum": "05eda678e52fb463da94f1287e8e79a7",
          "grade": false,
          "grade_id": "cell-8cff1f377323d3c6",
          "locked": false,
          "schema_version": 3,
          "solution": true,
          "task": false
        },
        "id": "VqMQDsiZemi_",
        "colab": {
          "base_uri": "https://localhost:8080/"
        },
        "outputId": "f117ac04-1d3e-4b41-ce24-6965945804d7"
      },
      "source": [
        "%%sql \n",
        "CREATE TABLE RelationsLivreTheme (\n",
        "    IdRelation    INTEGER  PRIMARY KEY,\n",
        "    IdLivre       INTEGER,\n",
        "    IdTheme       INTEGER,\n",
        "    FOREIGN KEY(IdLivre) REFERENCES Livres(IdLivre),\n",
        "    FOREIGN KEY(IdTheme) REFERENCES Themes(IdTheme)\n",
        ");"
      ],
      "execution_count": 98,
      "outputs": [
        {
          "output_type": "stream",
          "text": [
            " * sqlite:////content/gdrive/MyDrive/TP_SQL/livres1_db.db\n",
            "Done.\n"
          ],
          "name": "stdout"
        },
        {
          "output_type": "execute_result",
          "data": {
            "text/plain": [
              "[]"
            ]
          },
          "metadata": {
            "tags": []
          },
          "execution_count": 98
        }
      ]
    },
    {
      "cell_type": "code",
      "metadata": {
        "colab": {
          "base_uri": "https://localhost:8080/"
        },
        "id": "5dtDKRtJ3Osv",
        "outputId": "bac2430e-9180-489a-d007-0f15d4cc6590"
      },
      "source": [
        "%%sql\n",
        "INSERT INTO RelationsLivreTheme \n",
        "    (IdLivre,      \n",
        "    IdTheme)\n",
        "VALUES\n",
        "(\"1\",\"2\"),\n",
        "(\"1\",\"1\"),\n",
        "(\"1\",\"3\"),\n",
        "(\"1\",\"4\"),\n",
        "(\"2\",\"1\"),\n",
        "(\"2\",\"3\"),\n",
        "(\"3\",\"1\"),\n",
        "(\"3\",\"5\"),\n",
        "(\"4\",\"2\"),\n",
        "(\"4\",\"1\"),\n",
        "(\"4\",\"4\"),\n",
        "(\"5\",\"1\"),\n",
        "(\"5\",\"4\"),\n",
        "(\"6\",\"1\"),\n",
        "(\"6\",\"3\"),\n",
        "(\"7\",\"1\"),\n",
        "(\"7\",\"3\"),\n",
        "(\"8\",\"1\"),\n",
        "(\"8\",\"6\"),\n",
        "(\"9\",\"7\"),\n",
        "(\"9\",\"1\"),\n",
        "(\"10\",\"1\"),\n",
        "(\"10\",\"7\"),\n",
        "(\"11\",\"1\"),\n",
        "(\"11\",\"4\"),\n",
        "(\"12\",\"1\"),\n",
        "(\"12\",\"3\"),\n",
        "(\"13\",\"4\"),\n",
        "(\"13\",\"8\"),\n",
        "(\"14\",\"1\"),\n",
        "(\"14\",\"7\"),\n",
        "(\"15\",\"1\"),\n",
        "(\"15\",\"9\"),\n",
        "(\"16\",\"1\"),\n",
        "(\"16\",\"10\")\n",
        ";"
      ],
      "execution_count": 99,
      "outputs": [
        {
          "output_type": "stream",
          "text": [
            " * sqlite:////content/gdrive/MyDrive/TP_SQL/livres1_db.db\n",
            "35 rows affected.\n"
          ],
          "name": "stdout"
        },
        {
          "output_type": "execute_result",
          "data": {
            "text/plain": [
              "[]"
            ]
          },
          "metadata": {
            "tags": []
          },
          "execution_count": 99
        }
      ]
    },
    {
      "cell_type": "code",
      "metadata": {
        "deletable": false,
        "editable": false,
        "nbgrader": {
          "cell_type": "code",
          "checksum": "d0801a9959664adfc595a6f5d73366c9",
          "grade": true,
          "grade_id": "cell-dc78f23fda30d6f2",
          "locked": true,
          "points": 1,
          "schema_version": 3,
          "solution": false,
          "task": false
        },
        "id": "OoZ5HbQvemi_",
        "colab": {
          "base_uri": "https://localhost:8080/"
        },
        "outputId": "f4f6450d-a440-4efa-dd17-b1fb8412aa2a"
      },
      "source": [
        "resultat = %sql SELECT IdLivre, IdTheme FROM RelationsLivreTheme;\n",
        "assert (1, 1) in resultat"
      ],
      "execution_count": 100,
      "outputs": [
        {
          "output_type": "stream",
          "text": [
            " * sqlite:////content/gdrive/MyDrive/TP_SQL/livres1_db.db\n",
            "Done.\n"
          ],
          "name": "stdout"
        }
      ]
    },
    {
      "cell_type": "markdown",
      "metadata": {
        "deletable": false,
        "editable": false,
        "nbgrader": {
          "cell_type": "markdown",
          "checksum": "0e48de42665f66bc3fe84ab2db660519",
          "grade": false,
          "grade_id": "cell-97be65bb7b284e5a",
          "locked": true,
          "schema_version": 3,
          "solution": false,
          "task": false
        },
        "id": "YsRiSxOnemjA"
      },
      "source": [
        "## Cardinalité\n",
        "\n",
        "En regardant notre base de données et les relations que nous avons créé entre les tables, on remarque que celles-ci ont des *cardinalités* différentes. La *cardinalité* d'une relation entre deux tables **A** et **B** exprime à combien d'enregistrements de **A** peut être relié chaque enregistrement de **B**.\n",
        "\n",
        "Par exemple, à un livre est associé un auteur unique, mais pour un auteur donné, il peut y avoir plusieurs livres. On parle alors de **relation de 1 à n**\n",
        "\n",
        "Lorsque plusieurs enregistrements de la table **A** peuvent être associés à plusieurs enregistrements de la table **B**, on parle alors d'une **relation de n à n**\n",
        "\n",
        "### A vous de jouer\n",
        "\n",
        "Citez dans la base de données\n",
        "- une relation de 1 à n : 1 livre a 1 année de publi, mais une année de publi peut être commune à plusieurs livres\n",
        "- une relation de n à n : livres et thèmes\n",
        "\n",
        "### Table de relation\n",
        "\n",
        "Pour une **relation de n à n**, nous aurons en général recours à la création d'une nouvelle table de relation contenant les clés externes des tables à mettre en relation. C'est ce que nous avons mis en oeuvre pour la table **RelationsLivreTheme**."
      ]
    },
    {
      "cell_type": "code",
      "metadata": {
        "colab": {
          "base_uri": "https://localhost:8080/",
          "height": 181
        },
        "id": "rnXbbix-6iQh",
        "outputId": "06de777b-81f8-46cf-8ec2-4cfc859988d5"
      },
      "source": [
        "%sql SELECT name FROM sqlite_master WHERE type='table'"
      ],
      "execution_count": 101,
      "outputs": [
        {
          "output_type": "stream",
          "text": [
            " * sqlite:////content/gdrive/MyDrive/TP_SQL/livres1_db.db\n",
            "Done.\n"
          ],
          "name": "stdout"
        },
        {
          "output_type": "execute_result",
          "data": {
            "text/html": [
              "<table>\n",
              "    <thead>\n",
              "        <tr>\n",
              "            <th>name</th>\n",
              "        </tr>\n",
              "    </thead>\n",
              "    <tbody>\n",
              "        <tr>\n",
              "            <td>Langues</td>\n",
              "        </tr>\n",
              "        <tr>\n",
              "            <td>Auteurs</td>\n",
              "        </tr>\n",
              "        <tr>\n",
              "            <td>Livres</td>\n",
              "        </tr>\n",
              "        <tr>\n",
              "            <td>Themes</td>\n",
              "        </tr>\n",
              "        <tr>\n",
              "            <td>RelationsLivreTheme</td>\n",
              "        </tr>\n",
              "    </tbody>\n",
              "</table>"
            ],
            "text/plain": [
              "[('Langues',),\n",
              " ('Auteurs',),\n",
              " ('Livres',),\n",
              " ('Themes',),\n",
              " ('RelationsLivreTheme',)]"
            ]
          },
          "metadata": {
            "tags": []
          },
          "execution_count": 101
        }
      ]
    }
  ]
}