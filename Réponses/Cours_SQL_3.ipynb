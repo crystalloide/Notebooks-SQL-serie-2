{
  "nbformat": 4,
  "nbformat_minor": 0,
  "metadata": {
    "kernelspec": {
      "display_name": "Python 3",
      "language": "python",
      "name": "python3"
    },
    "language_info": {
      "codemirror_mode": {
        "name": "ipython",
        "version": 3
      },
      "file_extension": ".py",
      "mimetype": "text/x-python",
      "name": "python",
      "nbconvert_exporter": "python",
      "pygments_lexer": "ipython3",
      "version": "3.8.2"
    },
    "colab": {
      "name": "Cours_SQL_3.ipynb",
      "provenance": [],
      "collapsed_sections": [],
      "include_colab_link": true
    }
  },
  "cells": [
    {
      "cell_type": "markdown",
      "metadata": {
        "id": "view-in-github",
        "colab_type": "text"
      },
      "source": [
        "<a href=\"https://colab.research.google.com/github/crystalloide/Notebooks-SQL-serie-2/blob/main/R%C3%A9ponses/Cours_SQL_3.ipynb\" target=\"_parent\"><img src=\"https://colab.research.google.com/assets/colab-badge.svg\" alt=\"Open In Colab\"/></a>"
      ]
    },
    {
      "cell_type": "markdown",
      "metadata": {
        "id": "_XVy2Gt6grrr"
      },
      "source": [
        "# SQL 3/3\n",
        "> Cours IMT Mines 02-2022\n",
        "\n",
        "- categories: [Cours IMT Mines 02-2022, Bases de données, SGBR-R, SQL, TP]"
      ]
    },
    {
      "cell_type": "markdown",
      "metadata": {
        "deletable": false,
        "editable": false,
        "nbgrader": {
          "cell_type": "markdown",
          "checksum": "9980f00a38e74fb4285a884eb91421e0",
          "grade": false,
          "grade_id": "cell-6327f5750aa9e6bb",
          "locked": true,
          "schema_version": 3,
          "solution": false,
          "task": false
        },
        "id": "3F_ih40Pgrrv"
      },
      "source": [
        "# Manipuler les données avec SQL\n",
        "\n",
        "Dans ce dernier TP, nous allons voir comment insérer, mettre à jour ou supprimer des enregistrements dans des tables.\n",
        "\n",
        "Commencez par valider les cellules suivantes afin d'activer la fonctionnalité SQL de Jupyter et de charger la base du TP précédent."
      ]
    },
    {
      "cell_type": "code",
      "metadata": {
        "deletable": false,
        "editable": false,
        "nbgrader": {
          "cell_type": "code",
          "checksum": "7f14ad730ec4e3752b5c424444871833",
          "grade": false,
          "grade_id": "cell-2340a334310e9c55",
          "locked": true,
          "schema_version": 3,
          "solution": false,
          "task": false
        },
        "id": "m7mdX5krgrrw"
      },
      "source": [
        "%load_ext sql"
      ],
      "execution_count": null,
      "outputs": []
    },
    {
      "cell_type": "code",
      "metadata": {
        "colab": {
          "base_uri": "https://localhost:8080/"
        },
        "id": "zNIlTqpUFJOg",
        "outputId": "a7ed19af-bd65-4183-b934-e2edab591c3b"
      },
      "source": [
        "from google.colab import drive\n",
        "# drive.mount('/content/gdrive')\n",
        "drive.mount(\"/content/gdrive\", force_remount=True)"
      ],
      "execution_count": null,
      "outputs": [
        {
          "output_type": "stream",
          "text": [
            "Mounted at /content/gdrive\n"
          ],
          "name": "stdout"
        }
      ]
    },
    {
      "cell_type": "code",
      "metadata": {
        "colab": {
          "base_uri": "https://localhost:8080/",
          "height": 35
        },
        "id": "yN3rFyBpFJZD",
        "outputId": "0b7fc15a-e94e-4736-ef4b-b809a5331dd7"
      },
      "source": [
        "%sql sqlite:////content/gdrive/MyDrive/Partage/livres_AF.db"
      ],
      "execution_count": null,
      "outputs": [
        {
          "output_type": "execute_result",
          "data": {
            "application/vnd.google.colaboratory.intrinsic+json": {
              "type": "string"
            },
            "text/plain": [
              "'Connected: @/content/gdrive/MyDrive/Partage/livres_AF.db'"
            ]
          },
          "metadata": {
            "tags": []
          },
          "execution_count": 3
        }
      ]
    },
    {
      "cell_type": "code",
      "metadata": {
        "colab": {
          "base_uri": "https://localhost:8080/",
          "height": 181
        },
        "id": "D9-nqCNjFYZa",
        "outputId": "ce34b1e8-3807-46f6-ae91-ceaa3682e5ef"
      },
      "source": [
        "%sql SELECT name FROM sqlite_master WHERE type='table'"
      ],
      "execution_count": null,
      "outputs": [
        {
          "output_type": "stream",
          "text": [
            " * sqlite:////content/gdrive/MyDrive/Partage/livres_AF.db\n",
            "Done.\n"
          ],
          "name": "stdout"
        },
        {
          "output_type": "execute_result",
          "data": {
            "text/html": [
              "<table>\n",
              "    <thead>\n",
              "        <tr>\n",
              "            <th>name</th>\n",
              "        </tr>\n",
              "    </thead>\n",
              "    <tbody>\n",
              "        <tr>\n",
              "            <td>Langues</td>\n",
              "        </tr>\n",
              "        <tr>\n",
              "            <td>Auteurs</td>\n",
              "        </tr>\n",
              "        <tr>\n",
              "            <td>Livres</td>\n",
              "        </tr>\n",
              "        <tr>\n",
              "            <td>Themes</td>\n",
              "        </tr>\n",
              "        <tr>\n",
              "            <td>RelationsLivreTheme</td>\n",
              "        </tr>\n",
              "    </tbody>\n",
              "</table>"
            ],
            "text/plain": [
              "[('Langues',),\n",
              " ('Auteurs',),\n",
              " ('Livres',),\n",
              " ('Themes',),\n",
              " ('RelationsLivreTheme',)]"
            ]
          },
          "metadata": {
            "tags": []
          },
          "execution_count": 4
        }
      ]
    },
    {
      "cell_type": "markdown",
      "metadata": {
        "deletable": false,
        "editable": false,
        "nbgrader": {
          "cell_type": "markdown",
          "checksum": "2fbf61d91395843e7c9d0c79099e664e",
          "grade": false,
          "grade_id": "cell-883e3fd133f5ae52",
          "locked": true,
          "schema_version": 3,
          "solution": false,
          "task": false
        },
        "id": "CSv-TUedgrrw"
      },
      "source": [
        "## Insérer un enregistrement dans une table\n",
        "\n",
        "Nous avons déjà rencontré cerre requète **INSERT**. Elle s'applique que la table soit vide ou nom. On peut très bien ajouter par exemple une troisième langue dans notre table **Langues**"
      ]
    },
    {
      "cell_type": "code",
      "metadata": {
        "deletable": false,
        "editable": false,
        "nbgrader": {
          "cell_type": "code",
          "checksum": "add9f7ba3262f7030941c5e78fe79f86",
          "grade": false,
          "grade_id": "cell-f14d2bc792782a4d",
          "locked": true,
          "schema_version": 3,
          "solution": false,
          "task": false
        },
        "id": "MECg6jTRgrrw",
        "colab": {
          "base_uri": "https://localhost:8080/"
        },
        "outputId": "31c0677a-dc83-4614-985a-6a182e6b6a34"
      },
      "source": [
        "%sql INSERT INTO Langues (Langue) VALUES('Klingon');"
      ],
      "execution_count": null,
      "outputs": [
        {
          "output_type": "stream",
          "text": [
            " * sqlite:////content/gdrive/MyDrive/Partage/livres_AF.db\n",
            "1 rows affected.\n"
          ],
          "name": "stdout"
        },
        {
          "output_type": "execute_result",
          "data": {
            "text/plain": [
              "[]"
            ]
          },
          "metadata": {
            "tags": []
          },
          "execution_count": 5
        }
      ]
    },
    {
      "cell_type": "code",
      "metadata": {
        "deletable": false,
        "editable": false,
        "nbgrader": {
          "cell_type": "code",
          "checksum": "9c3afdf69e61ddc18bee206e4c9e7894",
          "grade": false,
          "grade_id": "cell-93dfa76cbc147268",
          "locked": true,
          "schema_version": 3,
          "solution": false,
          "task": false
        },
        "id": "CfkUyBn7grrx",
        "colab": {
          "base_uri": "https://localhost:8080/",
          "height": 139
        },
        "outputId": "c1f58955-7eaf-4bb1-cfd6-77eaefef4d95"
      },
      "source": [
        "# Vérifions :\n",
        "%sql SELECT * FROM Langues;"
      ],
      "execution_count": null,
      "outputs": [
        {
          "output_type": "stream",
          "text": [
            " * sqlite:////content/gdrive/MyDrive/Partage/livres_AF.db\n",
            "Done.\n"
          ],
          "name": "stdout"
        },
        {
          "output_type": "execute_result",
          "data": {
            "text/html": [
              "<table>\n",
              "    <thead>\n",
              "        <tr>\n",
              "            <th>IdLangue</th>\n",
              "            <th>Langue</th>\n",
              "        </tr>\n",
              "    </thead>\n",
              "    <tbody>\n",
              "        <tr>\n",
              "            <td>1</td>\n",
              "            <td>Anglais</td>\n",
              "        </tr>\n",
              "        <tr>\n",
              "            <td>2</td>\n",
              "            <td>Français</td>\n",
              "        </tr>\n",
              "        <tr>\n",
              "            <td>3</td>\n",
              "            <td>Klingon</td>\n",
              "        </tr>\n",
              "    </tbody>\n",
              "</table>"
            ],
            "text/plain": [
              "[(1, 'Anglais'), (2, 'Français'), (3, 'Klingon')]"
            ]
          },
          "metadata": {
            "tags": []
          },
          "execution_count": 6
        }
      ]
    },
    {
      "cell_type": "markdown",
      "metadata": {
        "deletable": false,
        "editable": false,
        "nbgrader": {
          "cell_type": "markdown",
          "checksum": "fc30cc75fc819dc4349244bffd92352d",
          "grade": false,
          "grade_id": "cell-3e50e4f0487ca12c",
          "locked": true,
          "schema_version": 3,
          "solution": false,
          "task": false
        },
        "id": "JaSOOMc-grrx"
      },
      "source": [
        "## Mise a jour, effacement : UPDATE et DELETE\n",
        "\n",
        "Les requêtes **UPDATE** et **DELETE** fonctionnent sur le même modèle que les requêtes **SELECT**.  Attention, on a vite fait d'effacer toutes ses données si on ne configure pas bien sa requête. Une bonne habitude à prendre est de tester d'abord ses critères à l'aide d'un **SELECT**.\n",
        "\n",
        "Observez les exemples ci-dessous :"
      ]
    },
    {
      "cell_type": "code",
      "metadata": {
        "deletable": false,
        "editable": false,
        "nbgrader": {
          "cell_type": "code",
          "checksum": "acb3f40be639c4432ac9ae3c05764713",
          "grade": false,
          "grade_id": "cell-d033c708dc1e9918",
          "locked": true,
          "schema_version": 3,
          "solution": false,
          "task": false
        },
        "id": "kk_-WjWzgrrx",
        "colab": {
          "base_uri": "https://localhost:8080/",
          "height": 97
        },
        "outputId": "cdcd9603-5e69-4101-8636-01038e18abca"
      },
      "source": [
        "%sql SELECT Nom FROM Auteurs WHERE IdAuteur = 10;"
      ],
      "execution_count": null,
      "outputs": [
        {
          "output_type": "stream",
          "text": [
            " * sqlite:////content/gdrive/MyDrive/Partage/livres_AF.db\n",
            "Done.\n"
          ],
          "name": "stdout"
        },
        {
          "output_type": "execute_result",
          "data": {
            "text/html": [
              "<table>\n",
              "    <thead>\n",
              "        <tr>\n",
              "            <th>Nom</th>\n",
              "        </tr>\n",
              "    </thead>\n",
              "    <tbody>\n",
              "        <tr>\n",
              "            <td>Verne</td>\n",
              "        </tr>\n",
              "    </tbody>\n",
              "</table>"
            ],
            "text/plain": [
              "[('Verne',)]"
            ]
          },
          "metadata": {
            "tags": []
          },
          "execution_count": 7
        }
      ]
    },
    {
      "cell_type": "markdown",
      "metadata": {
        "deletable": false,
        "editable": false,
        "nbgrader": {
          "cell_type": "markdown",
          "checksum": "991549fc12157d637b1cf966cee84e15",
          "grade": false,
          "grade_id": "cell-009dad253f6c0c47",
          "locked": true,
          "schema_version": 3,
          "solution": false,
          "task": false
        },
        "id": "JwO4fpWCgrrx"
      },
      "source": [
        "C'est bien lui !!\n",
        "\n",
        "Modifions le nom de l'auteur grâce à une requête de mise à jour : \n",
        "\n",
        "**UPDATE** *table* <br>\n",
        "**SET**  *attribut1* = *valeur1*, *attribut2* = *valeur2*, ...<br>\n",
        "**WHERE** *critère*;"
      ]
    },
    {
      "cell_type": "code",
      "metadata": {
        "deletable": false,
        "editable": false,
        "nbgrader": {
          "cell_type": "code",
          "checksum": "2f1fa4948be21f3904f0c0d22f29e9d4",
          "grade": false,
          "grade_id": "cell-10fa9e247443b17e",
          "locked": true,
          "schema_version": 3,
          "solution": false,
          "task": false
        },
        "id": "3gdy1vhogrrx"
      },
      "source": [
        "%%sql \n",
        "\n",
        "UPDATE Auteurs \n",
        "SET Nom = \"Enrev\", Prenom = \"Seluj\"\n",
        "WHERE IdAuteur=10;\n",
        "\n",
        "SELECT * FROM Auteurs ;"
      ],
      "execution_count": null,
      "outputs": []
    },
    {
      "cell_type": "markdown",
      "metadata": {
        "deletable": false,
        "editable": false,
        "nbgrader": {
          "cell_type": "markdown",
          "checksum": "7a575448a9401d574d9f725fee2f7fc3",
          "grade": false,
          "grade_id": "cell-e75f792ff6c4dcca",
          "locked": true,
          "schema_version": 3,
          "solution": false,
          "task": false
        },
        "id": "iuBuHsbTgrry"
      },
      "source": [
        "supprimons vite cette entrée ! Nous utiliserons une requête\n",
        "**DELETE FROM** *table* **WHERE** *critere*\n",
        "\n",
        "**Attention** : soyez bien sûr de votre critère sous peine de perdre des données importantes !"
      ]
    },
    {
      "cell_type": "code",
      "metadata": {
        "deletable": false,
        "editable": false,
        "nbgrader": {
          "cell_type": "code",
          "checksum": "e154a2564ac318045fde6a02ef4745ed",
          "grade": false,
          "grade_id": "cell-bd79e8e61e2cf1e5",
          "locked": true,
          "schema_version": 3,
          "solution": false,
          "task": false
        },
        "id": "I_uKXsUzgrry",
        "colab": {
          "base_uri": "https://localhost:8080/",
          "height": 283
        },
        "outputId": "f817ff7e-1f6d-43a6-faad-db8e6a8e0022"
      },
      "source": [
        "%%sql \n",
        "\n",
        "DELETE  FROM Auteurs  WHERE IdAuteur=10;\n",
        "\n",
        "SELECT * FROM Auteurs;"
      ],
      "execution_count": null,
      "outputs": [
        {
          "output_type": "stream",
          "text": [
            " * sqlite:////content/gdrive/MyDrive/Partage/livres_AF.db\n",
            "1 rows affected.\n",
            "Done.\n"
          ],
          "name": "stdout"
        },
        {
          "output_type": "execute_result",
          "data": {
            "text/html": [
              "<table>\n",
              "    <thead>\n",
              "        <tr>\n",
              "            <th>IdAuteur</th>\n",
              "            <th>Nom</th>\n",
              "            <th>Prenom</th>\n",
              "            <th>AnneeNaissance</th>\n",
              "            <th>IdLangue</th>\n",
              "        </tr>\n",
              "    </thead>\n",
              "    <tbody>\n",
              "        <tr>\n",
              "            <td>1</td>\n",
              "            <td>Orwell</td>\n",
              "            <td>George</td>\n",
              "            <td>1903</td>\n",
              "            <td>1</td>\n",
              "        </tr>\n",
              "        <tr>\n",
              "            <td>2</td>\n",
              "            <td>Herbert</td>\n",
              "            <td>Frank</td>\n",
              "            <td>1920</td>\n",
              "            <td>1</td>\n",
              "        </tr>\n",
              "        <tr>\n",
              "            <td>3</td>\n",
              "            <td>Asimov</td>\n",
              "            <td>Isaac</td>\n",
              "            <td>1920</td>\n",
              "            <td>1</td>\n",
              "        </tr>\n",
              "        <tr>\n",
              "            <td>4</td>\n",
              "            <td>Huxley</td>\n",
              "            <td>Aldous</td>\n",
              "            <td>1894</td>\n",
              "            <td>1</td>\n",
              "        </tr>\n",
              "        <tr>\n",
              "            <td>5</td>\n",
              "            <td>Bradbury</td>\n",
              "            <td>Ray</td>\n",
              "            <td>1920</td>\n",
              "            <td>1</td>\n",
              "        </tr>\n",
              "        <tr>\n",
              "            <td>6</td>\n",
              "            <td>K. Dick</td>\n",
              "            <td>Philip</td>\n",
              "            <td>1928</td>\n",
              "            <td>1</td>\n",
              "        </tr>\n",
              "        <tr>\n",
              "            <td>7</td>\n",
              "            <td>Barjavel</td>\n",
              "            <td>René</td>\n",
              "            <td>1911</td>\n",
              "            <td>2</td>\n",
              "        </tr>\n",
              "        <tr>\n",
              "            <td>8</td>\n",
              "            <td>Boulle</td>\n",
              "            <td>Pierre</td>\n",
              "            <td>1912</td>\n",
              "            <td>2</td>\n",
              "        </tr>\n",
              "        <tr>\n",
              "            <td>9</td>\n",
              "            <td>Van Vogt</td>\n",
              "            <td>Alfred Elton</td>\n",
              "            <td>1912</td>\n",
              "            <td>1</td>\n",
              "        </tr>\n",
              "    </tbody>\n",
              "</table>"
            ],
            "text/plain": [
              "[(1, 'Orwell', 'George', 1903, 1),\n",
              " (2, 'Herbert', 'Frank', 1920, 1),\n",
              " (3, 'Asimov', 'Isaac', 1920, 1),\n",
              " (4, 'Huxley', 'Aldous', 1894, 1),\n",
              " (5, 'Bradbury', 'Ray', 1920, 1),\n",
              " (6, 'K. Dick', 'Philip', 1928, 1),\n",
              " (7, 'Barjavel', 'René', 1911, 2),\n",
              " (8, 'Boulle', 'Pierre', 1912, 2),\n",
              " (9, 'Van Vogt', 'Alfred Elton', 1912, 1)]"
            ]
          },
          "metadata": {
            "tags": []
          },
          "execution_count": 9
        }
      ]
    },
    {
      "cell_type": "markdown",
      "metadata": {
        "deletable": false,
        "editable": false,
        "nbgrader": {
          "cell_type": "markdown",
          "checksum": "6292fd0f56644177736f08d244101169",
          "grade": false,
          "grade_id": "cell-277d3039c1da8207",
          "locked": true,
          "schema_version": 3,
          "solution": false,
          "task": false
        },
        "id": "XkA37Y-ogrry"
      },
      "source": [
        "### Attention à la cohérence des données\n",
        "\n",
        "Dans une base de données relationnelle il faut être vigilant lors de la suppression d'enregistrements : en effet la suppression d'un enregistrement entraîne la suppression de sa clé primaire qui peut être utilisée en tant que clé externe dans une autre table. Cela entraîne la corruption des données. Observez l'exemple ci-dessous dans lequel je me suis attribué un livre célèbre sans toucher à la table **Livres**\n",
        "\n",
        "Il existe en SQL des moyens pour se prémunir de ce type de problèmes mais cela dépasse le cadre de ce cours."
      ]
    },
    {
      "cell_type": "code",
      "metadata": {
        "deletable": false,
        "editable": false,
        "nbgrader": {
          "cell_type": "code",
          "checksum": "8f60cebb6abad5668dbd88d4da924121",
          "grade": false,
          "grade_id": "cell-be2f14082d157a96",
          "locked": true,
          "schema_version": 3,
          "solution": false,
          "task": false
        },
        "id": "Gl2ccwrqgrry",
        "colab": {
          "base_uri": "https://localhost:8080/",
          "height": 429
        },
        "outputId": "9fa3ebb9-cf10-49e6-bc29-0662c1c43c69"
      },
      "source": [
        "%%sql\n",
        "INSERT INTO Auteurs \n",
        "    (Nom, Prenom, IdLangue, AnneeNaissance) \n",
        "VALUES\n",
        "    (\"Alleaume\", \"Stephane\", 2, 1850);\n",
        "    \n",
        "SELECT Titre, Nom from Livres JOIN Auteurs USING (IdAuteur);"
      ],
      "execution_count": null,
      "outputs": [
        {
          "output_type": "stream",
          "text": [
            " * sqlite:////content/gdrive/MyDrive/Partage/livres_AF.db\n",
            "1 rows affected.\n",
            "Done.\n"
          ],
          "name": "stdout"
        },
        {
          "output_type": "execute_result",
          "data": {
            "text/html": [
              "<table>\n",
              "    <thead>\n",
              "        <tr>\n",
              "            <th>Titre</th>\n",
              "            <th>Nom</th>\n",
              "        </tr>\n",
              "    </thead>\n",
              "    <tbody>\n",
              "        <tr>\n",
              "            <td>1984</td>\n",
              "            <td>Orwell</td>\n",
              "        </tr>\n",
              "        <tr>\n",
              "            <td>Dune</td>\n",
              "            <td>Herbert</td>\n",
              "        </tr>\n",
              "        <tr>\n",
              "            <td>Fondation</td>\n",
              "            <td>Asimov</td>\n",
              "        </tr>\n",
              "        <tr>\n",
              "            <td>Le meilleur des mondes</td>\n",
              "            <td>Huxley</td>\n",
              "        </tr>\n",
              "        <tr>\n",
              "            <td>Fahrenheit 451</td>\n",
              "            <td>Bradbury</td>\n",
              "        </tr>\n",
              "        <tr>\n",
              "            <td>Ubik</td>\n",
              "            <td>K. Dick</td>\n",
              "        </tr>\n",
              "        <tr>\n",
              "            <td>Chroniques martiennes</td>\n",
              "            <td>Bradbury</td>\n",
              "        </tr>\n",
              "        <tr>\n",
              "            <td>La nuit des temps</td>\n",
              "            <td>Barjavel</td>\n",
              "        </tr>\n",
              "        <tr>\n",
              "            <td>Blade Runner</td>\n",
              "            <td>K. Dick</td>\n",
              "        </tr>\n",
              "        <tr>\n",
              "            <td>Les Robots</td>\n",
              "            <td>Asimov</td>\n",
              "        </tr>\n",
              "        <tr>\n",
              "            <td>La Planète des singes</td>\n",
              "            <td>Boulle</td>\n",
              "        </tr>\n",
              "        <tr>\n",
              "            <td>Ravage</td>\n",
              "            <td>Barjavel</td>\n",
              "        </tr>\n",
              "        <tr>\n",
              "            <td>Le Maître du Haut Château</td>\n",
              "            <td>K. Dick</td>\n",
              "        </tr>\n",
              "        <tr>\n",
              "            <td>Le monde des A</td>\n",
              "            <td>Van Vogt</td>\n",
              "        </tr>\n",
              "        <tr>\n",
              "            <td>La Fin de l’éternité</td>\n",
              "            <td>Asimov</td>\n",
              "        </tr>\n",
              "        <tr>\n",
              "            <td>De la Terre à la Lune</td>\n",
              "            <td>Alleaume</td>\n",
              "        </tr>\n",
              "    </tbody>\n",
              "</table>"
            ],
            "text/plain": [
              "[('1984', 'Orwell'),\n",
              " ('Dune', 'Herbert'),\n",
              " ('Fondation', 'Asimov'),\n",
              " ('Le meilleur des mondes', 'Huxley'),\n",
              " ('Fahrenheit 451', 'Bradbury'),\n",
              " ('Ubik', 'K. Dick'),\n",
              " ('Chroniques martiennes', 'Bradbury'),\n",
              " ('La nuit des temps', 'Barjavel'),\n",
              " ('Blade Runner', 'K. Dick'),\n",
              " ('Les Robots', 'Asimov'),\n",
              " ('La Planète des singes', 'Boulle'),\n",
              " ('Ravage', 'Barjavel'),\n",
              " ('Le Maître du Haut Château', 'K. Dick'),\n",
              " ('Le monde des A', 'Van Vogt'),\n",
              " ('La Fin de l’éternité', 'Asimov'),\n",
              " ('De la Terre à la Lune', 'Alleaume')]"
            ]
          },
          "metadata": {
            "tags": []
          },
          "execution_count": 10
        }
      ]
    },
    {
      "cell_type": "markdown",
      "metadata": {
        "deletable": false,
        "editable": false,
        "nbgrader": {
          "cell_type": "markdown",
          "checksum": "bb3f37542bac1260c09012551e285fa2",
          "grade": false,
          "grade_id": "cell-7bc565125c47191d",
          "locked": true,
          "schema_version": 3,
          "solution": false,
          "task": false
        },
        "id": "OSJXfkN-grry"
      },
      "source": [
        "### A vous de jouer\n",
        "\n",
        "1. Réinsérez l'auteur Jules Verne à sa place !\n",
        "1. Supprimez tous les livres écrits au 19e sciecle"
      ]
    },
    {
      "cell_type": "code",
      "metadata": {
        "deletable": false,
        "nbgrader": {
          "cell_type": "code",
          "checksum": "48acde77e8abba874fe318ddf32af893",
          "grade": false,
          "grade_id": "cell-10ea243af1bf7f67",
          "locked": false,
          "schema_version": 3,
          "solution": true,
          "task": false
        },
        "id": "sHtb59_ygrry",
        "colab": {
          "base_uri": "https://localhost:8080/"
        },
        "outputId": "8fae4d33-e998-4fd3-93c2-60ee036fe5a5"
      },
      "source": [
        "%%sql\n",
        "DELETE  FROM Auteurs  WHERE IdAuteur=10;"
      ],
      "execution_count": null,
      "outputs": [
        {
          "output_type": "stream",
          "text": [
            " * sqlite:////content/gdrive/MyDrive/Partage/livres_AF.db\n",
            "1 rows affected.\n"
          ],
          "name": "stdout"
        },
        {
          "output_type": "execute_result",
          "data": {
            "text/plain": [
              "[]"
            ]
          },
          "metadata": {
            "tags": []
          },
          "execution_count": 11
        }
      ]
    },
    {
      "cell_type": "code",
      "metadata": {
        "colab": {
          "base_uri": "https://localhost:8080/"
        },
        "id": "qI4Ckx4UG8-b",
        "outputId": "e830a372-047a-4cd9-c97f-37c478803472"
      },
      "source": [
        "%%sql\n",
        "INSERT INTO Auteurs \n",
        "    (Nom, Prenom, IdLangue, AnneeNaissance) \n",
        "VALUES\n",
        "    (\"Verne\", \"Jules\", 2, 1850);"
      ],
      "execution_count": null,
      "outputs": [
        {
          "output_type": "stream",
          "text": [
            " * sqlite:////content/gdrive/MyDrive/Partage/livres_AF.db\n",
            "1 rows affected.\n"
          ],
          "name": "stdout"
        },
        {
          "output_type": "execute_result",
          "data": {
            "text/plain": [
              "[]"
            ]
          },
          "metadata": {
            "tags": []
          },
          "execution_count": 12
        }
      ]
    },
    {
      "cell_type": "code",
      "metadata": {
        "colab": {
          "base_uri": "https://localhost:8080/"
        },
        "id": "ksLKXV3VHCqq",
        "outputId": "6863ef7a-26bf-4fcf-a519-323e232d47b4"
      },
      "source": [
        "%%sql\n",
        "DELETE  FROM Livres  WHERE AnneePubli >= 1800 AND AnneePubli <= 1899;"
      ],
      "execution_count": null,
      "outputs": [
        {
          "output_type": "stream",
          "text": [
            " * sqlite:////content/gdrive/MyDrive/Partage/livres_AF.db\n",
            "1 rows affected.\n"
          ],
          "name": "stdout"
        },
        {
          "output_type": "execute_result",
          "data": {
            "text/plain": [
              "[]"
            ]
          },
          "metadata": {
            "tags": []
          },
          "execution_count": 13
        }
      ]
    },
    {
      "cell_type": "code",
      "metadata": {
        "deletable": false,
        "editable": false,
        "nbgrader": {
          "cell_type": "code",
          "checksum": "ef821cf2cfabc1ba8746548a2c067461",
          "grade": false,
          "grade_id": "cell-fe49e47ee7dc2091",
          "locked": true,
          "schema_version": 3,
          "solution": false,
          "task": false
        },
        "id": "qrYDl0Pxgrrz",
        "colab": {
          "base_uri": "https://localhost:8080/"
        },
        "outputId": "c088b759-76b2-4554-8fa2-7ee51a204e6e"
      },
      "source": [
        "result = %sql SELECT Titre, Nom AnneePubli from Livres JOIN Auteurs USING (IdAuteur);"
      ],
      "execution_count": null,
      "outputs": [
        {
          "output_type": "stream",
          "text": [
            " * sqlite:////content/gdrive/MyDrive/Partage/livres_AF.db\n",
            "Done.\n"
          ],
          "name": "stdout"
        }
      ]
    },
    {
      "cell_type": "code",
      "metadata": {
        "id": "PJSz6tYPgrrz",
        "colab": {
          "base_uri": "https://localhost:8080/"
        },
        "outputId": "ac4b79c3-7592-4362-80ab-b7e219fa8fa4"
      },
      "source": [
        "print(result)"
      ],
      "execution_count": null,
      "outputs": [
        {
          "output_type": "stream",
          "text": [
            "+---------------------------+------------+\n",
            "|           Titre           | AnneePubli |\n",
            "+---------------------------+------------+\n",
            "|            1984           |   Orwell   |\n",
            "|            Dune           |  Herbert   |\n",
            "|         Fondation         |   Asimov   |\n",
            "|   Le meilleur des mondes  |   Huxley   |\n",
            "|       Fahrenheit 451      |  Bradbury  |\n",
            "|            Ubik           |  K. Dick   |\n",
            "|   Chroniques martiennes   |  Bradbury  |\n",
            "|     La nuit des temps     |  Barjavel  |\n",
            "|        Blade Runner       |  K. Dick   |\n",
            "|         Les Robots        |   Asimov   |\n",
            "|   La Planète des singes   |   Boulle   |\n",
            "|           Ravage          |  Barjavel  |\n",
            "| Le Maître du Haut Château |  K. Dick   |\n",
            "|       Le monde des A      |  Van Vogt  |\n",
            "|    La Fin de l’éternité   |   Asimov   |\n",
            "+---------------------------+------------+\n"
          ],
          "name": "stdout"
        }
      ]
    },
    {
      "cell_type": "code",
      "metadata": {
        "deletable": false,
        "editable": false,
        "nbgrader": {
          "cell_type": "code",
          "checksum": "b13fe9921f12b70199d4437524f1b7f9",
          "grade": true,
          "grade_id": "cell-72ecb30e6cc31128",
          "locked": true,
          "points": 3,
          "schema_version": 3,
          "solution": false,
          "task": false
        },
        "id": "9FkpTudGgrrz"
      },
      "source": [
        "assert len(result) == 15"
      ],
      "execution_count": null,
      "outputs": []
    }
  ]
}